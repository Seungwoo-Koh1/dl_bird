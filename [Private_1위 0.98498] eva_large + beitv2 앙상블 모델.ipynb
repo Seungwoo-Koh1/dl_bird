{
 "cells": [
  {
   "cell_type": "code",
   "execution_count": 1,
   "metadata": {},
   "outputs": [],
   "source": [
    "# # colab 기준으로 돌리는 경우, 아래처럼 라이브러리를 설치해주셔야 합니다.\n",
    "# # 코드는 RTX-A4000 환경이었는데, T4에서 잘될지 모르겠네요.\n",
    "# # A100이나 V100에서 돌리길 권장합니다.\n",
    "# from google.colab import drive\n",
    "# drive.mount('/content/drive')\n",
    "\n",
    "# import os\n",
    "# os.makedirs('/tmp/project', exist_ok=True)\n",
    "# os.chdir('/tmp/project')\n",
    "# print( os.getcwd() )\n",
    "# if not os.path.exists('/tmp/project/train.csv'):\n",
    "#     !cp /content/drive/MyDrive/Colab_Notebooks/dacon/2024_저해상도조류이미지/open.zip /tmp/project\n",
    "#     !unzip -o -q open.zip\n",
    "#     !rm open.zip\n",
    "#     # 추가 모듈 설치\n",
    "#     !sudo apt-get install -y libmagickwand-dev\n",
    "#     !pip install wandb timm wand"
   ]
  },
  {
   "cell_type": "code",
   "execution_count": 2,
   "metadata": {
    "id": "k95fPjnRSjV0"
   },
   "outputs": [
    {
     "name": "stderr",
     "output_type": "stream",
     "text": [
      "c:\\Users\\PC\\anaconda3\\envs\\cv_env\\lib\\site-packages\\albumentations\\__init__.py:13: UserWarning: A new version of Albumentations is available: 1.4.21 (you have 1.4.18). Upgrade using: pip install -U albumentations. To disable automatic update checks, set the environment variable NO_ALBUMENTATIONS_UPDATE to 1.\n",
      "  check_for_updates()\n"
     ]
    },
    {
     "name": "stdout",
     "output_type": "stream",
     "text": [
      "11/19 16:31:24 [INFO] program started\n"
     ]
    }
   ],
   "source": [
    "import os\n",
    "import gc\n",
    "import numpy as np\n",
    "import pandas as pd\n",
    "import torch\n",
    "import torch.nn as nn\n",
    "import torch.nn.functional as F\n",
    "import torchvision\n",
    "\n",
    "from glob import glob\n",
    "from tqdm.auto import tqdm\n",
    "from sklearn.metrics import f1_score\n",
    "from sklearn.preprocessing import LabelEncoder\n",
    "from sklearn.model_selection import StratifiedKFold\n",
    "from torchvision.transforms import v2\n",
    "import albumentations as A\n",
    "import cv2\n",
    "from albumentations.pytorch import ToTensorV2\n",
    "\n",
    "from torch.utils.data import Dataset, DataLoader\n",
    "from transformers import Swinv2Model, ConvNextV2Model, AutoModel\n",
    "import timm\n",
    "from PIL import Image\n",
    "\n",
    "torch.set_float32_matmul_precision('high')  # or 'medium' | 'high'\n",
    "# os.environ['WANDB_API_KEY']='xxxxx'\n",
    "# os.environ['WANDB_MODE']='online'\n",
    "# os.environ['WANDB_PROJECT']='basslibrary240210'\n",
    "os.environ['WANDB_MODE']='offline'\n",
    "\n",
    "######## logger ########\n",
    "import sys, logging, IPython\n",
    "logger = logging.getLogger()\n",
    "logging.basicConfig( handlers=[ logging.StreamHandler(stream=sys.stdout), logging.handlers.RotatingFileHandler(filename='run.log', mode='a', maxBytes=512000, backupCount=4) ] )\n",
    "logging_fomatter = logging.Formatter( '%(asctime)s [%(levelname)-4.4s] %(message)s', datefmt='%m/%d %H:%M:%S' )\n",
    "_ = [ h.setFormatter(logging_fomatter) for h in logger.handlers ]\n",
    "logger.setLevel(logging.INFO)\n",
    "def showtraceback(self, *args, **kwargs):\n",
    "    logger.exception('-------Exception----------')\n",
    "IPython.core.interactiveshell.InteractiveShell.showtraceback = showtraceback\n",
    "logger.info('program started')"
   ]
  },
  {
   "cell_type": "code",
   "execution_count": 3,
   "metadata": {
    "id": "n4qX0V8CSjTB"
   },
   "outputs": [
    {
     "name": "stdout",
     "output_type": "stream",
     "text": [
      "11/19 16:31:24 [INFO] {'SEED': 42, 'N_SPLIT': 5, 'LABEL_SMOOTHING': 0.05, 'OPTIMIZER': 'AdamW', 'INTERPOLATION': 'robidouxsharp', 'PRECISION': '16', 'MODEL_NAME': 'timm/deit3_large_patch16_224.fb_in22k_ft_in1k', 'IMG_SIZE': 224, 'BATCH_SIZE': 48, 'LR': [1.7320508075688774e-05, 1e-07], 'IMG_TRAIN_SIZE': 224}\n"
     ]
    }
   ],
   "source": [
    "CFG = {}\n",
    "CFG['SEED'] = 42\n",
    "CFG['N_SPLIT'] = 5\n",
    "CFG['LABEL_SMOOTHING'] = 0.05\n",
    "CFG['OPTIMIZER'] = 'AdamW'\n",
    "CFG['INTERPOLATION'] = 'robidouxsharp'\n",
    "CFG['PRECISION'] = '16'\n",
    "# #----------------------------------\n",
    "# # [9842]\n",
    "# CFG['MODEL_NAME'] = \"timm/eva_large_patch14_336.in22k_ft_in22k_in1k\"\n",
    "# CFG['IMG_SIZE'] = 336\n",
    "# CFG['BATCH_SIZE'] = 16 ## 16//16G\n",
    "# CFG['LR'] = [ 0.25e-5 * np.sqrt(CFG['BATCH_SIZE']), 1e-7 ]\n",
    "# # ----------------------------------\n",
    "# # [0. --[9836][9842x2]\n",
    "# [0.9811,0.9825,0.9811,0.9819,0.9837]\n",
    "# CFG['MODEL_NAME'] = \"timm/eva_large_patch14_196.in22k_ft_in22k_in1k\"\n",
    "# CFG['IMG_SIZE'] = 196\n",
    "# # CFG['IMG_TRAIN_SIZE'] = 196 * 2\n",
    "# CFG['BATCH_SIZE'] = 48 ## 48/16G(ema), 16/8G\n",
    "# CFG['LR'] = [ 0.25e-5 * np.sqrt(CFG['BATCH_SIZE']), 1e-6 ]\n",
    "# # ----------------------------------\n",
    "# [0.9768, 0.9707, 0.9714, 0.9791, 0.9724 ]\n",
    "# CFG['MODEL_NAME'] = \"timm/convnextv2_large.fcmae_ft_in22k_in1k\" ## 288 \n",
    "# # CFG['MODEL_NAME'] = \"facebook/convnextv2-large-22k-224\"\n",
    "# CFG['IMG_SIZE'] = 288\n",
    "# CFG['BATCH_SIZE'] = 16  # 6/8G, 16/16G\n",
    "# CFG['PRECISION'] = '16'\n",
    "# CFG['LR'] = [ 0.25e-5 * np.sqrt(CFG['BATCH_SIZE']), 1e-7 ]\n",
    "# #----------------------------------\n",
    "# ## best_score=0.9699\n",
    "# ## A4000: [9737]\n",
    "# CFG['MODEL_NAME'] = \"timm/swinv2_large_window12_192.ms_in22k\"\n",
    "# CFG['IMG_SIZE'] = 192\n",
    "# CFG['BATCH_SIZE'] = 40 ## 40/16\n",
    "# CFG['LR'] = 0.25e-5 * np.sqrt(CFG['BATCH_SIZE'])\n",
    "# # #----------------------------------\n",
    "# # best_score=0.9805\n",
    "# [0.9818,0.9815,0.9803,0.9825,0.9813]\n",
    "# CFG['MODEL_NAME'] = \"timm/beitv2_large_patch16_224.in1k_ft_in22k_in1k\"\n",
    "# CFG['IMG_SIZE'] = 224\n",
    "# CFG['BATCH_SIZE'] = 48 ## 48//16G(ema), 14//8G memory..\n",
    "# CFG['LR'] = [ 0.25e-5 * np.sqrt(CFG['BATCH_SIZE']), 1e-6 ]\n",
    "# #----------------------------------\n",
    "# [0.9742, ]\n",
    "CFG['MODEL_NAME'] = \"timm/deit3_large_patch16_224.fb_in22k_ft_in1k\"    ## 304MB\n",
    "CFG['IMG_SIZE'] = 224\n",
    "CFG['BATCH_SIZE'] = 48 ## 48//16G, 4//8G memory..\n",
    "CFG['LR'] = [ 0.25e-5 * np.sqrt(CFG['BATCH_SIZE']), 1e-7 ]\n",
    "# #----------------------------------\n",
    "\n",
    "######################################\n",
    "if 'IMG_TRAIN_SIZE' not in CFG:\n",
    "    CFG['IMG_TRAIN_SIZE'] = CFG['IMG_SIZE']\n",
    "logger.info(CFG)"
   ]
  },
  {
   "cell_type": "code",
   "execution_count": 4,
   "metadata": {},
   "outputs": [
    {
     "name": "stdout",
     "output_type": "stream",
     "text": [
      "11/19 16:31:24 [INFO] cuda\n"
     ]
    }
   ],
   "source": [
    "assert torch.cuda.is_available()\n",
    "device = 'cuda' if torch.cuda.is_available() else 'cpu'\n",
    "torch.set_default_device(device)\n",
    "logger.info(device)"
   ]
  },
  {
   "cell_type": "code",
   "execution_count": 5,
   "metadata": {},
   "outputs": [
    {
     "name": "stdout",
     "output_type": "stream",
     "text": [
      "11/19 16:31:24 [INFO] seed_everything : 42\n"
     ]
    }
   ],
   "source": [
    "def seed_everything(seed):\n",
    "    logger.info(f'seed_everything : {seed}')\n",
    "\n",
    "    import random, os\n",
    "    import numpy as np\n",
    "    import torch\n",
    "    \n",
    "    random.seed(seed)\n",
    "    os.environ['PYTHONHASHSEED'] = str(seed)\n",
    "    np.random.seed(seed)\n",
    "    torch.manual_seed(seed)\n",
    "    torch.cuda.manual_seed(seed)\n",
    "    torch.backends.cudnn.deterministic = True\n",
    "    torch.backends.cudnn.benchmark = True\n",
    "\n",
    "seed_everything(CFG['SEED'])"
   ]
  },
  {
   "cell_type": "code",
   "execution_count": 6,
   "metadata": {
    "id": "kCL6U72NSxNp"
   },
   "outputs": [],
   "source": [
    "class CustomDataset(Dataset):\n",
    "    def __init__(self, img_path_list, label_list, load_img_size, shuffle=False, transforms=None, interpolation='robidouxsharp' ):\n",
    "        self.df = pd.DataFrame({'img_path_list': img_path_list})\n",
    "        self.interpolation = interpolation\n",
    "        self.load_img_size = load_img_size\n",
    "        logger.info(f'load_img_size={load_img_size}')\n",
    "        if label_list is not None:\n",
    "            self.df['label_list'] = label_list\n",
    "        if shuffle:\n",
    "            self.df = self.df.sample(frac=1.0).reset_index(drop=True)\n",
    "        self.transforms = transforms\n",
    "\n",
    "    # numpy or PIL Image => PIL Image\n",
    "    def get_interpolated_image(self, img, new_image_size):\n",
    "        if self.interpolation == 'pil_lanczos':\n",
    "            if isinstance(img, np.ndarray ):\n",
    "                img = Image.fromarray(img)\n",
    "            return img.resize( (new_image_size, new_image_size), Image.LANCZOS )\n",
    "        elif self.interpolation == 'cv2_lanczos4':\n",
    "            if not isinstance(img, np.ndarray ):\n",
    "                img = np.array(img)\n",
    "            import cv2\n",
    "            img = cv2.cvtColor(img, cv2.COLOR_RGB2BGR)\n",
    "            img = cv2.resize(src, (new_image_size, new_image_size), interpolation=cv2.INTER_LANCZOS4) # 픽셀 크기 지정\n",
    "            img = cv2.cvtColor(np.array(img), cv2.COLOR_BGR2RGB)\n",
    "            return Image.fromarray(img)\n",
    "        else:\n",
    "            if not isinstance(img, np.ndarray ):\n",
    "                img = np.array(img)\n",
    "            from wand import image\n",
    "            with image.Image.from_array(img) as src:\n",
    "                src.resize( new_image_size, new_image_size, filter=self.interpolation )\n",
    "                return Image.fromarray(np.array(src))\n",
    "                \n",
    "    # path => PIL Image\n",
    "    def get_image_from_index(self, index, img_size ):\n",
    "        img_path = self.df.img_path_list[index]\n",
    "        fname = img_path.replace('./','').split('.')[0] + '.png'\n",
    "        full_fname = f'img_cached/{img_size}_{self.interpolation}/{fname}'\n",
    "        if os.path.exists(full_fname):\n",
    "            img = Image.open(full_fname)\n",
    "        else:            \n",
    "            fname_path = '/'.join(full_fname.split('/')[:-1])\n",
    "            os.makedirs(fname_path, exist_ok = True)\n",
    "            img = self.get_interpolated_image(Image.open(img_path), img_size )\n",
    "            img.save( full_fname )\n",
    "        return img\n",
    "    \n",
    "    def __getitem__(self, index):\n",
    "        image = self.get_image_from_index( index, self.load_img_size )\n",
    "        if self.transforms is not None:\n",
    "            image = self.transforms(image)\n",
    "        if 'label_list' in self.df.columns:\n",
    "            label = self.df.label_list[index]\n",
    "            return { 'pixel_values': image, 'label': label }\n",
    "        else:\n",
    "            return { 'pixel_values': image }\n",
    "    \n",
    "    def __len__(self):\n",
    "        return len(self.df)"
   ]
  },
  {
   "cell_type": "code",
   "execution_count": 7,
   "metadata": {},
   "outputs": [],
   "source": [
    "## ref: https://github.com/katsura-jp/pytorch-cosine-annealing-with-warmup/blob/master/cosine_annealing_warmup/scheduler.py\n",
    "import math\n",
    "import torch\n",
    "from torch.optim.lr_scheduler import _LRScheduler\n",
    "\n",
    "class CosineAnnealingWarmupRestarts(_LRScheduler):\n",
    "    \"\"\"\n",
    "        optimizer (Optimizer): Wrapped optimizer.\n",
    "        first_cycle_steps (int): First cycle step size.\n",
    "        cycle_mult(float): Cycle steps magnification. Default: -1.\n",
    "        max_lr(float): First cycle's max learning rate. Default: 0.1.\n",
    "        min_lr(float): Min learning rate. Default: 0.001.\n",
    "        warmup_steps(int): Linear warmup step size. Default: 0.\n",
    "        gamma(float): Decrease rate of max learning rate by cycle. Default: 1.\n",
    "        last_epoch (int): The index of last epoch. Default: -1.\n",
    "    \"\"\"\n",
    "    \n",
    "    def __init__(self,\n",
    "                 optimizer : torch.optim.Optimizer,\n",
    "                 first_cycle_steps : int,\n",
    "                 cycle_mult : float = 1.,\n",
    "                 max_lr : float = 1e-5,\n",
    "                 min_lr : float = 1e-10,\n",
    "                 warmup_steps : int = 0,\n",
    "                 gamma : float = 1.,\n",
    "                 last_epoch : int = -1\n",
    "        ):\n",
    "        assert warmup_steps < first_cycle_steps\n",
    "        \n",
    "        self.first_cycle_steps = first_cycle_steps # first cycle step size\n",
    "        self.cycle_mult = cycle_mult # cycle steps magnification\n",
    "        self.base_max_lr = max_lr # first max learning rate\n",
    "        self.max_lr = max_lr # max learning rate in the current cycle\n",
    "        self.min_lr = min_lr # min learning rate\n",
    "        self.warmup_steps = warmup_steps # warmup step size\n",
    "        self.gamma = gamma # decrease rate of max learning rate by cycle\n",
    "        \n",
    "        self.cur_cycle_steps = first_cycle_steps # first cycle step size\n",
    "        self.cycle = 0 # cycle count\n",
    "        self.step_in_cycle = last_epoch # step size of the current cycle\n",
    "        \n",
    "        super(CosineAnnealingWarmupRestarts, self).__init__(optimizer, last_epoch)\n",
    "        \n",
    "        # set learning rate min_lr\n",
    "        self.init_lr()\n",
    "    \n",
    "    def init_lr(self):\n",
    "        self.base_lrs = []\n",
    "        for param_group in self.optimizer.param_groups:\n",
    "            param_group['lr'] = self.min_lr\n",
    "            self.base_lrs.append(self.min_lr)\n",
    "    \n",
    "    def get_lr(self):\n",
    "        if self.step_in_cycle == -1:\n",
    "            return self.base_lrs\n",
    "        elif self.step_in_cycle < self.warmup_steps:\n",
    "            return [(self.max_lr - base_lr)*self.step_in_cycle / self.warmup_steps + base_lr for base_lr in self.base_lrs]\n",
    "        else:\n",
    "            return [base_lr + (self.max_lr - base_lr) \\\n",
    "                    * (1 + math.cos(math.pi * (self.step_in_cycle-self.warmup_steps) \\\n",
    "                                    / (self.cur_cycle_steps - self.warmup_steps))) / 2\n",
    "                    for base_lr in self.base_lrs]\n",
    "\n",
    "    def step(self, epoch=None):\n",
    "        if epoch is None:\n",
    "            epoch = self.last_epoch + 1\n",
    "            self.step_in_cycle = self.step_in_cycle + 1\n",
    "            if self.step_in_cycle >= self.cur_cycle_steps:\n",
    "                self.cycle += 1\n",
    "                self.step_in_cycle = self.step_in_cycle - self.cur_cycle_steps\n",
    "                self.cur_cycle_steps = int((self.cur_cycle_steps - self.warmup_steps) * self.cycle_mult) + self.warmup_steps\n",
    "        else:\n",
    "            if epoch >= self.first_cycle_steps:\n",
    "                if self.cycle_mult == 1.:\n",
    "                    self.step_in_cycle = epoch % self.first_cycle_steps\n",
    "                    self.cycle = epoch // self.first_cycle_steps\n",
    "                else:\n",
    "                    n = int(math.log((epoch / self.first_cycle_steps * (self.cycle_mult - 1) + 1), self.cycle_mult))\n",
    "                    self.cycle = n\n",
    "                    self.step_in_cycle = epoch - int(self.first_cycle_steps * (self.cycle_mult ** n - 1) / (self.cycle_mult - 1))\n",
    "                    self.cur_cycle_steps = self.first_cycle_steps * self.cycle_mult ** (n)\n",
    "            else:\n",
    "                self.cur_cycle_steps = self.first_cycle_steps\n",
    "                self.step_in_cycle = epoch\n",
    "                \n",
    "        self.max_lr = self.base_max_lr * (self.gamma**self.cycle)\n",
    "        self.last_epoch = math.floor(epoch)\n",
    "        for param_group, lr in zip(self.optimizer.param_groups, self.get_lr()):\n",
    "            param_group['lr'] = lr"
   ]
  },
  {
   "cell_type": "code",
   "execution_count": 8,
   "metadata": {
    "id": "TfQfZc6lSxJD"
   },
   "outputs": [],
   "source": [
    "class CustomModel(nn.Module):\n",
    "    def __init__(self, model):\n",
    "        super(CustomModel, self).__init__()\n",
    "        self.model = model\n",
    "        self.clf = nn.LazyLinear(25)\n",
    "        \n",
    "    def forward(self, x):\n",
    "        x = self.model(x)\n",
    "        if not isinstance(x, torch.Tensor):\n",
    "            x = x.pooler_output\n",
    "        if self.clf:\n",
    "            x = self.clf(x)\n",
    "        return x"
   ]
  },
  {
   "cell_type": "code",
   "execution_count": 9,
   "metadata": {
    "id": "VoWIJtWISjOC"
   },
   "outputs": [],
   "source": [
    "train_df = pd.read_csv('D:\\\\data\\\\bird\\\\open\\\\train.csv')\n",
    "le = LabelEncoder()\n",
    "train_df['class'] = le.fit_transform(train_df['label'])"
   ]
  },
  {
   "cell_type": "code",
   "execution_count": 10,
   "metadata": {
    "id": "vj2Tb6MuTL5b"
   },
   "outputs": [],
   "source": [
    "if not len(train_df) == len(os.listdir('D:\\\\data\\\\bird\\\\open\\\\train')):\n",
    "    raise ValueError()"
   ]
  },
  {
   "cell_type": "code",
   "execution_count": 11,
   "metadata": {
    "id": "ETmPNpAqSjLe"
   },
   "outputs": [],
   "source": [
    "skf = StratifiedKFold(n_splits=CFG['N_SPLIT'], random_state=CFG['SEED'], shuffle=True)"
   ]
  },
  {
   "cell_type": "code",
   "execution_count": 12,
   "metadata": {},
   "outputs": [],
   "source": [
    "image_size = CFG['IMG_SIZE']\n",
    "\n",
    "train_transform_list = [\n",
    "    # v2.RandomHorizontalFlip(), ## eva모델등에서는 성능향상이 없음. 오히려 성능떨어짐.\n",
    "    v2.TrivialAugmentWide(interpolation=v2.InterpolationMode.BICUBIC), \n",
    "    v2.RandomErasing(),\n",
    "    v2.Resize(size=(image_size, image_size), interpolation=v2.InterpolationMode.LANCZOS, antialias=True),\n",
    "    v2.ToImage(), v2.ToDtype( torch.float32, scale=True),\n",
    "    v2.Normalize(mean=[0.485, 0.456, 0.406], std=[0.229, 0.224, 0.225]),\n",
    "]\n",
    "if CFG['IMG_SIZE'] == CFG['IMG_TRAIN_SIZE']:\n",
    "    train_transform_list = [ a for a in train_transform_list if not isinstance(a, v2.Resize) ]\n",
    "train_transform = v2.Compose(train_transform_list )\n",
    "test_transform = v2.Compose( [\n",
    "    v2.ToImage(), v2.ToDtype( torch.float32, scale=True),\n",
    "    v2.Normalize(mean=[0.485, 0.456, 0.406], std=[0.229, 0.224, 0.225]),\n",
    "])"
   ]
  },
  {
   "cell_type": "code",
   "execution_count": 13,
   "metadata": {},
   "outputs": [],
   "source": [
    "from sklearn.utils.class_weight import compute_class_weight\n",
    "class_weight = torch.FloatTensor( compute_class_weight('balanced', classes=train_df.label.sort_values().unique(), y=train_df.label ) )\n",
    "\n",
    "def train(model, optimizer, train_loader, val_loader, scheduler, device, validation_steps = 0.25, logging_steps = 10, use_amp=True, filename=''):\n",
    "    logger.info(f'{use_amp=}')\n",
    "\n",
    "    model.to(device)\n",
    "    best_score = 0\n",
    "    best_loss  = 1000\n",
    "    best_model = None\n",
    "    MAX_PATIENCE = 5\n",
    "    best_patience = MAX_PATIENCE\n",
    "    loss_fn = nn.CrossEntropyLoss( weight=class_weight, label_smoothing=CFG['LABEL_SMOOTHING'], reduction='mean' ).to(device)\n",
    "    scaler = torch.cuda.amp.GradScaler(enabled=use_amp)\n",
    "    checkpoint_filenames = []\n",
    "\n",
    "    max_steps = len(train_loader)\n",
    "    if not isinstance(validation_steps, int):\n",
    "        validation_steps = int(max_steps * validation_steps)  ## 절사..\n",
    "    max_steps = (max_steps//validation_steps)*validation_steps\n",
    "    \n",
    "    # ema 모델은 모델의 weight 한벌을 가지고 있어, 메모리 사용량도 확인해야 함..\n",
    "    ema_model = None  ## 의미가 없을 듯..\n",
    "    ema_decay = np.power(np.e, np.log(0.5)/(validation_steps*MAX_PATIENCE))\n",
    "    ema_model = torch.optim.swa_utils.AveragedModel(model, multi_avg_fn=torch.optim.swa_utils.get_ema_multi_avg_fn(ema_decay))\n",
    "                         \n",
    "    for epoch in range(1, 1000):\n",
    "        model.train()\n",
    "        train_loss = []\n",
    "        pbar_postfix = {}\n",
    "\n",
    "        pbar = tqdm(train_loader, desc=f'Epoch {epoch}')\n",
    "        for i, batch in enumerate(pbar):\n",
    "            if i >= max_steps:\n",
    "                continue\n",
    "            steps = i+1\n",
    "            \n",
    "            if use_amp:\n",
    "                with torch.autocast(device_type=device, dtype=torch.float16, enabled=use_amp):\n",
    "                    output = model(batch['pixel_values'])\n",
    "                    loss = loss_fn(output, batch['label'])\n",
    "                scaler.scale(loss).backward()\n",
    "\n",
    "                scaler.unscale_(optimizer)\n",
    "                torch.nn.utils.clip_grad_norm_(model.parameters(), max_norm=0.1)\n",
    "                \n",
    "                scaler.step(optimizer)\n",
    "                scaler.update()\n",
    "                optimizer.zero_grad()\n",
    "            else:\n",
    "                output = model(batch['pixel_values'])\n",
    "                loss = loss_fn(output, batch['label'])\n",
    "                loss.backward()\n",
    "                optimizer.step()\n",
    "                optimizer.zero_grad()\n",
    "            \n",
    "            if scheduler is not None:\n",
    "                scheduler.step()\n",
    "            \n",
    "            train_loss.append(loss.item())\n",
    "            loss = None\n",
    "            output = None\n",
    "            batch = None\n",
    "            \n",
    "            if ema_model is not None:\n",
    "                ema_model.update_parameters(model)\n",
    "            \n",
    "\n",
    "            if steps % logging_steps == 0:\n",
    "                pbar_postfix.update({\n",
    "                    't_loss0': train_loss[-1], \n",
    "                    'lr': optimizer.param_groups[0][\"lr\"]\n",
    "                } )\n",
    "                pbar.set_postfix( pbar_postfix )\n",
    "                run.log({\n",
    "                    \"epoch\": epoch, \n",
    "                    \"step\": steps,\n",
    "                    \"train\":{\"loss\": train_loss[-1]}, \n",
    "                    \"lr\": optimizer.param_groups[0][\"lr\"]\n",
    "                }, step=(epoch-1)*max_steps+steps)\n",
    "                \n",
    "            if steps % validation_steps == 0:\n",
    "                _val_loss, _val_score = validation(model, loss_fn, val_loader, device, use_amp)\n",
    "                _train_loss = np.mean(train_loss)\n",
    "                \n",
    "                best_score_mark = '*' if best_score < _val_score else ' '\n",
    "                best_loss_mark = '*' if best_loss > _val_loss else ' '\n",
    "                pbar_postfix.update({\n",
    "                    'lr': optimizer.param_groups[0][\"lr\"], \n",
    "                    't_loss': _train_loss,\n",
    "                    'v_loss': _val_loss, \n",
    "                    'v_f1': _val_score \n",
    "                })\n",
    "                pbar.set_postfix( pbar_postfix )\n",
    "                logger.info(f'eps={epoch:d}, lr={optimizer.param_groups[0][\"lr\"]:.3g}, t_loss={_train_loss:.4f}, v_loss={_val_loss:.4f}{best_loss_mark}, v_f1={_val_score:.4f}{best_score_mark}')\n",
    "                run.log({\n",
    "                    \"epoch\": epoch, \"step\": steps,\n",
    "                    \"train\":{\"avg_loss\": _train_loss}, \n",
    "                    \"valid\": { \"loss\": _val_loss, \"score\": _val_score},\n",
    "                    \"lr\": optimizer.param_groups[0][\"lr\"] \n",
    "                }, step=(epoch-1)*max_steps+steps)\n",
    "                \n",
    "                if best_score < _val_score:\n",
    "                    best_score = _val_score\n",
    "                    best_model = model\n",
    "                    best_patience = MAX_PATIENCE\n",
    "                    ## saving..\n",
    "                    if filename is not None and len(filename) != 0:\n",
    "                        checkpoint_filenames.append(\n",
    "                            filename.format(epoch=epoch, val_loss=_val_loss, val_score=_val_score) + '.ckpt' )\n",
    "                        if best_score > 0.9750:\n",
    "                            os.makedirs(os.path.dirname(checkpoint_filenames[-1]), exist_ok=True)\n",
    "                            torch.save( {\"model\": model.state_dict() }, checkpoint_filenames[-1] )\n",
    "                            logger.info( f'{checkpoint_filenames[-1]} : saved.' )\n",
    "                            _ = [ os.path.exists(fname) and os.remove(fname) for fname in checkpoint_filenames[:-1] ]\n",
    "                            checkpoint_filenames = checkpoint_filenames[-1:]\n",
    "                    \n",
    "                    ## 추가적으로 비교함..\n",
    "                    if best_loss > _val_loss:\n",
    "                        best_loss = _val_loss\n",
    "                elif best_loss > _val_loss:\n",
    "                    best_loss = _val_loss\n",
    "                    best_patience = MAX_PATIENCE\n",
    "                elif best_patience > 0:\n",
    "                    best_patience -= 1\n",
    "                else:\n",
    "                    logger.info(f'NO_MORE_TRAINING, {best_score=:.4f}')\n",
    "                    if ema_model is not None:\n",
    "                        # ## EMA --------------------\n",
    "                        torch.optim.swa_utils.update_bn(train_loader, ema_model, device )\n",
    "                        ema_val_loss, ema_val_score = validation(ema_model, loss_fn, val_loader, device, use_amp)\n",
    "                        logger.info(f'EMA ::: ema_v_loss={ema_val_loss:.4f}, ema_v_f1={ema_val_score:.4f}')\n",
    "                        run.log({'ema_v_loss': ema_val_loss, 'ema_v_f1': ema_val_score })\n",
    "                        \n",
    "                        save_filename = filename.format(epoch=epoch, val_loss=ema_val_loss, val_score=ema_val_score) + '-ema.ckpt'\n",
    "                        torch.save( {\"model\": ema_model.state_dict() }, save_filename )\n",
    "                        logger.info( f'{save_filename} : (ema) saved.' )\n",
    "                        # ##========================\n",
    "                    if not os.path.exists(checkpoint_filenames[-1]):\n",
    "                        os.makedirs(os.path.dirname(checkpoint_filenames[-1]), exist_ok=True)\n",
    "                        torch.save( {\"model\": best_model.state_dict() }, checkpoint_filenames[-1] )\n",
    "                        logger.info( f'{checkpoint_filenames[-1]} : saved.' )\n",
    "                        _ = [ os.path.exists(fname) and os.remove(fname) for fname in checkpoint_filenames[:-1] ]\n",
    "                        checkpoint_filenames = checkpoint_filenames[-1:]\n",
    "                    return best_model"
   ]
  },
  {
   "cell_type": "code",
   "execution_count": 14,
   "metadata": {},
   "outputs": [],
   "source": [
    "def validation(model, loss_fn, val_loader, device, use_amp):\n",
    "    model = model.to(device)\n",
    "    save_training = model.training\n",
    "    model.eval()\n",
    "    \n",
    "    val_loss = []\n",
    "    preds, true_labels = [], []\n",
    "\n",
    "    with torch.no_grad():\n",
    "        for batch in tqdm(val_loader):\n",
    "            true_labels += batch['label'].detach().cpu().numpy().tolist()\n",
    "            with torch.autocast(device_type=device, dtype=torch.float16, enabled=use_amp):\n",
    "                pred = model(batch['pixel_values'])\n",
    "                loss = loss_fn(pred, batch['label'])\n",
    "            preds += pred.detach().argmax(1).cpu().numpy().tolist()\n",
    "            val_loss.append(loss.item())\n",
    "        \n",
    "        _val_loss = np.mean(val_loss)\n",
    "        _val_score = f1_score(true_labels, preds, average='macro')\n",
    "    ## return_to_train..\n",
    "    if save_training:\n",
    "        model.train()\n",
    "    return _val_loss, _val_score"
   ]
  },
  {
   "cell_type": "code",
   "execution_count": 15,
   "metadata": {},
   "outputs": [],
   "source": [
    "def prediction(model, test_loader, device):\n",
    "    model = model.to(device)\n",
    "    save_training = model.training\n",
    "    model.eval()\n",
    "    preds = []\n",
    "\n",
    "    with torch.no_grad():\n",
    "        for batch in tqdm(test_loader):\n",
    "            pixel_values = batch['pixel_values'].to(device)            \n",
    "            pred = model(pixel_values)  ## F.softmax(output) ## 의미는 없을 듯.\n",
    "            preds += pred.detach().cpu().numpy().tolist()\n",
    "    if save_training:\n",
    "        model.train()\n",
    "    return preds"
   ]
  },
  {
   "cell_type": "code",
   "execution_count": 16,
   "metadata": {},
   "outputs": [],
   "source": [
    "def create_model(model_name):\n",
    "    import timm\n",
    "    from transformers import AutoModel, AutoModelForImageClassification, AutoConfig\n",
    "\n",
    "    logger.info(f'create_model: {model_name}')\n",
    "    if '/' not in model_name:\n",
    "        model_name = 'timm/' + model_name\n",
    "        \n",
    "    if model_name.startswith('./'):\n",
    "        import nextvit\n",
    "        model = CustomModel( timm.create_model('nextvit_large', pretrained=True, checkpoint_path=model_name) )\n",
    "    elif model_name.startswith('facebook/hiera_'):\n",
    "        from hiera import Hiera  ## pip install hiera-transformer\n",
    "        model = CustomModel( Hiera.from_pretrained(model_name) )\n",
    "    elif model_name.startswith('timm/'):\n",
    "        model = CustomModel( timm.create_model( model_name, pretrained=True ) )\n",
    "    else:\n",
    "        model = CustomModel( AutoModel.from_pretrained(model_name) )\n",
    "    model.eval()\n",
    "    model( torch.rand((1,3,CFG['IMG_SIZE'],CFG['IMG_SIZE'])).type(torch.float32) ) ## initalize_lazyLinear..\n",
    "    return model"
   ]
  },
  {
   "cell_type": "markdown",
   "metadata": {},
   "source": [
    "# 모델 훈련"
   ]
  },
  {
   "cell_type": "code",
   "execution_count": 17,
   "metadata": {},
   "outputs": [],
   "source": [
    "import os\n",
    "os.environ['MAGICK_HOME'] = r'C:\\Program Files\\ImageMagick-7.1.1-Q16-HDRI'  # 실제 설치 경로로 수정"
   ]
  },
  {
   "cell_type": "code",
   "execution_count": 18,
   "metadata": {},
   "outputs": [
    {
     "name": "stdout",
     "output_type": "stream",
     "text": [
      "첫 번째 이미지 경로: D:\\data\\bird\\open\\train\\TRAIN_00000.jpg\n",
      "해당 파일 존재 여부: True\n"
     ]
    }
   ],
   "source": [
    "import os\n",
    "\n",
    "# 기본 경로 설정\n",
    "base_path = r'D:\\data\\bird\\open'\n",
    "\n",
    "# CSV 파일 읽기\n",
    "train_df = pd.read_csv(os.path.join(base_path, 'train.csv'))\n",
    "\n",
    "# 이미지 경로 수정\n",
    "train_df['img_path'] = train_df['img_path'].apply(\n",
    "    lambda x: os.path.join(base_path, 'train', os.path.basename(x))\n",
    ")\n",
    "\n",
    "# 경로 확인\n",
    "print(\"첫 번째 이미지 경로:\", train_df['img_path'].iloc[0])\n",
    "print(\"해당 파일 존재 여부:\", os.path.exists(train_df['img_path'].iloc[0]))"
   ]
  },
  {
   "cell_type": "code",
   "execution_count": 19,
   "metadata": {},
   "outputs": [
    {
     "name": "stdout",
     "output_type": "stream",
     "text": [
      "데이터 확인:\n",
      "총 데이터 수: 15834\n",
      "레이블 종류 수: 25\n",
      "클래스 분포:\n",
      " label\n",
      "Ruddy Shelduck               671\n",
      "White-Breasted Kingfisher    666\n",
      "Red-Wattled Lapwing          663\n",
      "Northern Lapwing             663\n",
      "Gray Wagtail                 661\n",
      "Name: count, dtype: int64\n",
      "\n",
      "첫 번째 row 정보:\n",
      "이미지 경로: D:\\data\\bird\\open\\train/TRAIN_00000.jpg\n",
      "업스케일 이미지 경로: D:\\data\\bird\\open\\upscale_train/TRAIN_00000.png\n",
      "레이블: Ruddy Shelduck\n",
      "클래스 번호: 19\n",
      "\n",
      "파일 존재 여부 확인:\n",
      "원본 이미지 존재: True\n",
      "업스케일 이미지 존재: True\n",
      "\n",
      "폴드 분할 테스트:\n",
      "Fold 0:\n",
      "  Train size: 12667\n",
      "  Val size: 3167\n",
      "  Train 클래스 수: 25\n",
      "  Val 클래스 수: 25\n"
     ]
    }
   ],
   "source": [
    "import os\n",
    "import pandas as pd\n",
    "from sklearn.preprocessing import LabelEncoder\n",
    "from sklearn.model_selection import StratifiedKFold\n",
    "\n",
    "# 기본 경로 설정\n",
    "base_path = r'D:\\data\\bird\\open'\n",
    "\n",
    "# CSV 파일 읽기\n",
    "train_df = pd.read_csv(os.path.join(base_path, 'train.csv'))\n",
    "\n",
    "# 이미지 경로 수정 (상대 경로를 절대 경로로 변경)\n",
    "train_df['img_path'] = train_df['img_path'].apply(\n",
    "    lambda x: os.path.join(base_path, x.replace('./', ''))\n",
    ")\n",
    "\n",
    "# upscale 이미지 경로도 수정\n",
    "train_df['upscale_img_path'] = train_df['upscale_img_path'].apply(\n",
    "    lambda x: os.path.join(base_path, x.replace('./', ''))\n",
    ")\n",
    "\n",
    "# Label Encoding\n",
    "le = LabelEncoder()\n",
    "train_df['class'] = le.fit_transform(train_df['label'])\n",
    "\n",
    "# 데이터 확인\n",
    "print(\"데이터 확인:\")\n",
    "print(\"총 데이터 수:\", len(train_df))\n",
    "print(\"레이블 종류 수:\", len(train_df['class'].unique()))\n",
    "print(\"클래스 분포:\\n\", train_df['label'].value_counts().head())\n",
    "print(\"\\n첫 번째 row 정보:\")\n",
    "print(\"이미지 경로:\", train_df['img_path'].iloc[0])\n",
    "print(\"업스케일 이미지 경로:\", train_df['upscale_img_path'].iloc[0])\n",
    "print(\"레이블:\", train_df['label'].iloc[0])\n",
    "print(\"클래스 번호:\", train_df['class'].iloc[0])\n",
    "\n",
    "# 파일 존재 여부 확인\n",
    "print(\"\\n파일 존재 여부 확인:\")\n",
    "print(\"원본 이미지 존재:\", os.path.exists(train_df['img_path'].iloc[0]))\n",
    "print(\"업스케일 이미지 존재:\", os.path.exists(train_df['upscale_img_path'].iloc[0]))\n",
    "\n",
    "# StratifiedKFold 설정\n",
    "skf = StratifiedKFold(n_splits=CFG['N_SPLIT'], random_state=CFG['SEED'], shuffle=True)\n",
    "\n",
    "# 폴드 분할 테스트\n",
    "print(\"\\n폴드 분할 테스트:\")\n",
    "for fold_idx, (train_index, val_index) in enumerate(skf.split(train_df, train_df['class'])):\n",
    "    print(f\"Fold {fold_idx}:\")\n",
    "    print(f\"  Train size: {len(train_index)}\")\n",
    "    print(f\"  Val size: {len(val_index)}\")\n",
    "    print(f\"  Train 클래스 수: {len(train_df.iloc[train_index]['class'].unique())}\")\n",
    "    print(f\"  Val 클래스 수: {len(train_df.iloc[val_index]['class'].unique())}\")\n",
    "    break  # 첫 번째 폴드만 확인"
   ]
  },
  {
   "cell_type": "code",
   "execution_count": 22,
   "metadata": {},
   "outputs": [],
   "source": [
    "class CustomDataset(Dataset):\n",
    "    def __init__(self, img_path_list, label_list, load_img_size, shuffle=False, transforms=None, interpolation='cv2_lanczos4'):\n",
    "        self.df = pd.DataFrame({'img_path_list': img_path_list})\n",
    "        self.interpolation = interpolation\n",
    "        self.load_img_size = load_img_size\n",
    "        logger.info(f'load_img_size={load_img_size}')\n",
    "        if label_list is not None:\n",
    "            self.df['label_list'] = label_list\n",
    "        if shuffle:\n",
    "            self.df = self.df.sample(frac=1.0).reset_index(drop=True)\n",
    "        self.transforms = transforms\n",
    "        \n",
    "        # 캐시 디렉토리 기본 경로 설정\n",
    "        self.base_cache_dir = os.path.join(base_path, 'img_cached')\n",
    "        os.makedirs(self.base_cache_dir, exist_ok=True)\n",
    "\n",
    "    def get_image_from_index(self, index, img_size):\n",
    "        img_path = self.df.img_path_list[index]\n",
    "        \n",
    "        # 원본 파일명에서 확장자만 변경\n",
    "        fname = os.path.basename(img_path).replace('.jpg', '.png')\n",
    "        \n",
    "        # 캐시 서브디렉토리 경로\n",
    "        cache_subdir = os.path.join(self.base_cache_dir, f'{img_size}_{self.interpolation}')\n",
    "        os.makedirs(cache_subdir, exist_ok=True)\n",
    "        \n",
    "        # 캐시 파일 전체 경로\n",
    "        cache_path = os.path.join(cache_subdir, fname)\n",
    "        \n",
    "        if os.path.exists(cache_path):\n",
    "            img = Image.open(cache_path).convert('RGB')\n",
    "        else:\n",
    "            img = Image.open(img_path).convert('RGB')\n",
    "            img = self.get_interpolated_image(img, img_size)\n",
    "            img.save(cache_path)\n",
    "        \n",
    "        return img\n",
    "\n",
    "    def get_interpolated_image(self, img, new_image_size):\n",
    "        if self.interpolation == 'cv2_lanczos4':\n",
    "            if not isinstance(img, np.ndarray):\n",
    "                img = np.array(img)\n",
    "            img = cv2.resize(img, (new_image_size, new_image_size), interpolation=cv2.INTER_LANCZOS4)\n",
    "            if len(img.shape) == 2:  # 흑백 이미지인 경우\n",
    "                img = cv2.cvtColor(img, cv2.COLOR_GRAY2RGB)\n",
    "            return Image.fromarray(img)\n",
    "        else:  # pil_lanczos\n",
    "            if isinstance(img, np.ndarray):\n",
    "                img = Image.fromarray(img)\n",
    "            return img.resize((new_image_size, new_image_size), Image.LANCZOS)\n",
    "\n",
    "    def __getitem__(self, index):\n",
    "        image = self.get_image_from_index(index, self.load_img_size)\n",
    "        if self.transforms is not None:\n",
    "            image = self.transforms(image)\n",
    "        if 'label_list' in self.df.columns:\n",
    "            label = self.df.label_list[index]\n",
    "            return {'pixel_values': image, 'label': label}\n",
    "        else:\n",
    "            return {'pixel_values': image}\n",
    "    \n",
    "    def __len__(self):\n",
    "        return len(self.df)"
   ]
  },
  {
   "cell_type": "code",
   "execution_count": 25,
   "metadata": {},
   "outputs": [],
   "source": [
    "# train 함수 내에서 loss_fn 정의 부분 수정\n",
    "def train(model, optimizer, train_loader, val_loader, scheduler, device, validation_steps = 0.25, logging_steps = 10, use_amp=True, filename=''):\n",
    "    logger.info(f'{use_amp=}')\n",
    "\n",
    "    model.to(device)\n",
    "    best_score = 0\n",
    "    best_loss  = 1000\n",
    "    best_model = None\n",
    "    MAX_PATIENCE = 5\n",
    "    best_patience = MAX_PATIENCE\n",
    "    \n",
    "    # loss_fn 수정 - labels를 long 타입으로 변경\n",
    "    class_weight = torch.FloatTensor(compute_class_weight('balanced', \n",
    "                                                        classes=train_df.label.sort_values().unique(), \n",
    "                                                        y=train_df.label)).to(device)\n",
    "    loss_fn = nn.CrossEntropyLoss(weight=class_weight, \n",
    "                                 label_smoothing=CFG['LABEL_SMOOTHING'])\n",
    "\n",
    "    scaler = torch.cuda.amp.GradScaler(enabled=use_amp)\n",
    "    checkpoint_filenames = []\n",
    "\n",
    "    max_steps = len(train_loader)\n",
    "    if not isinstance(validation_steps, int):\n",
    "        validation_steps = int(max_steps * validation_steps)\n",
    "    max_steps = (max_steps//validation_steps)*validation_steps\n",
    "    \n",
    "    ema_model = None\n",
    "    ema_decay = np.power(np.e, np.log(0.5)/(validation_steps*MAX_PATIENCE))\n",
    "    ema_model = torch.optim.swa_utils.AveragedModel(model, \n",
    "                                                   multi_avg_fn=torch.optim.swa_utils.get_ema_multi_avg_fn(ema_decay))\n",
    "                         \n",
    "    for epoch in range(1, 1000):\n",
    "        model.train()\n",
    "        train_loss = []\n",
    "        pbar_postfix = {}\n",
    "\n",
    "        pbar = tqdm(train_loader, desc=f'Epoch {epoch}')\n",
    "        for i, batch in enumerate(pbar):\n",
    "            if i >= max_steps:\n",
    "                continue\n",
    "            steps = i+1\n",
    "            \n",
    "            # 데이터 타입 변환\n",
    "            batch['label'] = batch['label'].long().to(device)\n",
    "            batch['pixel_values'] = batch['pixel_values'].to(device)\n",
    "            \n",
    "            if use_amp:\n",
    "                with torch.autocast(device_type=device, dtype=torch.float16, enabled=use_amp):\n",
    "                    output = model(batch['pixel_values'])\n",
    "                    loss = loss_fn(output, batch['label'])\n",
    "                scaler.scale(loss).backward()\n",
    "\n",
    "                scaler.unscale_(optimizer)\n",
    "                torch.nn.utils.clip_grad_norm_(model.parameters(), max_norm=0.1)\n",
    "                \n",
    "                scaler.step(optimizer)\n",
    "                scaler.update()\n",
    "                optimizer.zero_grad()\n",
    "            else:\n",
    "                output = model(batch['pixel_values'])\n",
    "                loss = loss_fn(output, batch['label'])\n",
    "                loss.backward()\n",
    "                optimizer.step()\n",
    "                optimizer.zero_grad()\n",
    "            \n",
    "            if scheduler is not None:\n",
    "                scheduler.step()\n",
    "            \n",
    "            train_loss.append(loss.item())\n",
    "            loss = None\n",
    "            output = None\n",
    "            batch = None\n",
    "            \n",
    "            if ema_model is not None:\n",
    "                ema_model.update_parameters(model)\n",
    "            \n",
    "            # 나머지 코드는 동일...\n",
    "\n",
    "# validation 함수도 수정\n",
    "def validation(model, loss_fn, val_loader, device, use_amp):\n",
    "    model = model.to(device)\n",
    "    save_training = model.training\n",
    "    model.eval()\n",
    "    \n",
    "    val_loss = []\n",
    "    preds, true_labels = [], []\n",
    "\n",
    "    with torch.no_grad():\n",
    "        for batch in tqdm(val_loader):\n",
    "            # 데이터 타입 변환\n",
    "            batch['label'] = batch['label'].long().to(device)\n",
    "            batch['pixel_values'] = batch['pixel_values'].to(device)\n",
    "            \n",
    "            true_labels += batch['label'].detach().cpu().numpy().tolist()\n",
    "            with torch.autocast(device_type=device, dtype=torch.float16, enabled=use_amp):\n",
    "                pred = model(batch['pixel_values'])\n",
    "                loss = loss_fn(pred, batch['label'])\n",
    "            preds += pred.detach().argmax(1).cpu().numpy().tolist()\n",
    "            val_loss.append(loss.item())\n",
    "        \n",
    "        _val_loss = np.mean(val_loss)\n",
    "        _val_score = f1_score(true_labels, preds, average='macro')\n",
    "\n",
    "    if save_training:\n",
    "        model.train()\n",
    "    return _val_loss, _val_score"
   ]
  },
  {
   "cell_type": "code",
   "execution_count": 26,
   "metadata": {},
   "outputs": [
    {
     "name": "stdout",
     "output_type": "stream",
     "text": [
      "11/19 16:34:31 [INFO] fold_idx=0 started\n"
     ]
    },
    {
     "data": {
      "text/html": [
       "Finishing last run (ID:dkxh85td) before initializing another..."
      ],
      "text/plain": [
       "<IPython.core.display.HTML object>"
      ]
     },
     "metadata": {},
     "output_type": "display_data"
    },
    {
     "data": {
      "text/html": [
       "You can sync this run to the cloud by running:<br/><code>wandb sync d:\\다운로드\\wandb\\offline-run-20241119_163250-dkxh85td<code>"
      ],
      "text/plain": [
       "<IPython.core.display.HTML object>"
      ]
     },
     "metadata": {},
     "output_type": "display_data"
    },
    {
     "data": {
      "text/html": [
       "Find logs at: <code>.\\wandb\\offline-run-20241119_163250-dkxh85td\\logs</code>"
      ],
      "text/plain": [
       "<IPython.core.display.HTML object>"
      ]
     },
     "metadata": {},
     "output_type": "display_data"
    },
    {
     "data": {
      "text/html": [
       "Successfully finished last run (ID:dkxh85td). Initializing new run:<br/>"
      ],
      "text/plain": [
       "<IPython.core.display.HTML object>"
      ]
     },
     "metadata": {},
     "output_type": "display_data"
    },
    {
     "data": {
      "text/html": [
       "Tracking run with wandb version 0.18.7"
      ],
      "text/plain": [
       "<IPython.core.display.HTML object>"
      ]
     },
     "metadata": {},
     "output_type": "display_data"
    },
    {
     "data": {
      "text/html": [
       "W&B syncing is set to <code>`offline`<code> in this directory.  <br/>Run <code>`wandb online`<code> or set <code>WANDB_MODE=online<code> to enable cloud syncing."
      ],
      "text/plain": [
       "<IPython.core.display.HTML object>"
      ]
     },
     "metadata": {},
     "output_type": "display_data"
    },
    {
     "name": "stdout",
     "output_type": "stream",
     "text": [
      "11/19 16:34:33 [INFO] load_img_size=224\n",
      "11/19 16:34:33 [INFO] load_img_size=224\n",
      "11/19 16:34:33 [INFO] create_model: timm/deit3_large_patch16_224.fb_in22k_ft_in1k\n",
      "11/19 16:34:33 [INFO] Loading pretrained weights from Hugging Face hub (timm/deit3_large_patch16_224.fb_in22k_ft_in1k)\n",
      "11/19 16:34:33 [INFO] [timm/deit3_large_patch16_224.fb_in22k_ft_in1k] Safe alternative available for 'pytorch_model.bin' (as 'model.safetensors'). Loading weights using safetensors.\n",
      "11/19 16:34:34 [INFO] use_amp=True\n"
     ]
    },
    {
     "name": "stderr",
     "output_type": "stream",
     "text": [
      "C:\\Users\\PC\\AppData\\Local\\Temp\\ipykernel_9328\\3573116741.py:19: FutureWarning: `torch.cuda.amp.GradScaler(args...)` is deprecated. Please use `torch.amp.GradScaler('cuda', args...)` instead.\n",
      "  scaler = torch.cuda.amp.GradScaler(enabled=use_amp)\n"
     ]
    },
    {
     "data": {
      "application/vnd.jupyter.widget-view+json": {
       "model_id": "1a2bd17398fa4cc2b26d7c5961ec62ad",
       "version_major": 2,
       "version_minor": 0
      },
      "text/plain": [
       "Epoch 1:   0%|          | 0/264 [00:00<?, ?it/s]"
      ]
     },
     "metadata": {},
     "output_type": "display_data"
    },
    {
     "data": {
      "application/vnd.jupyter.widget-view+json": {
       "model_id": "89fcc3fa538b4011bc57ccf5b988a98c",
       "version_major": 2,
       "version_minor": 0
      },
      "text/plain": [
       "Epoch 2:   0%|          | 0/264 [00:00<?, ?it/s]"
      ]
     },
     "metadata": {},
     "output_type": "display_data"
    },
    {
     "data": {
      "application/vnd.jupyter.widget-view+json": {
       "model_id": "45566059df7e4bbd8f0bd8301b47dbab",
       "version_major": 2,
       "version_minor": 0
      },
      "text/plain": [
       "Epoch 3:   0%|          | 0/264 [00:00<?, ?it/s]"
      ]
     },
     "metadata": {},
     "output_type": "display_data"
    },
    {
     "data": {
      "application/vnd.jupyter.widget-view+json": {
       "model_id": "aebf7efd29f94ac69c26829a370da44c",
       "version_major": 2,
       "version_minor": 0
      },
      "text/plain": [
       "Epoch 4:   0%|          | 0/264 [00:00<?, ?it/s]"
      ]
     },
     "metadata": {},
     "output_type": "display_data"
    },
    {
     "data": {
      "application/vnd.jupyter.widget-view+json": {
       "model_id": "22d7461766fb48ef86cc9e97a3134fdb",
       "version_major": 2,
       "version_minor": 0
      },
      "text/plain": [
       "Epoch 5:   0%|          | 0/264 [00:00<?, ?it/s]"
      ]
     },
     "metadata": {},
     "output_type": "display_data"
    },
    {
     "data": {
      "application/vnd.jupyter.widget-view+json": {
       "model_id": "627ee95065324c2f92c8e211882264c5",
       "version_major": 2,
       "version_minor": 0
      },
      "text/plain": [
       "Epoch 6:   0%|          | 0/264 [00:00<?, ?it/s]"
      ]
     },
     "metadata": {},
     "output_type": "display_data"
    },
    {
     "data": {
      "application/vnd.jupyter.widget-view+json": {
       "model_id": "7523d12e38b2490db1ae4d8405e2239a",
       "version_major": 2,
       "version_minor": 0
      },
      "text/plain": [
       "Epoch 7:   0%|          | 0/264 [00:00<?, ?it/s]"
      ]
     },
     "metadata": {},
     "output_type": "display_data"
    },
    {
     "data": {
      "application/vnd.jupyter.widget-view+json": {
       "model_id": "d44219b5610746e08ce39c1b5a1cd369",
       "version_major": 2,
       "version_minor": 0
      },
      "text/plain": [
       "Epoch 8:   0%|          | 0/264 [00:00<?, ?it/s]"
      ]
     },
     "metadata": {},
     "output_type": "display_data"
    },
    {
     "data": {
      "application/vnd.jupyter.widget-view+json": {
       "model_id": "28d6267b87a644f0975989fc4e99948d",
       "version_major": 2,
       "version_minor": 0
      },
      "text/plain": [
       "Epoch 9:   0%|          | 0/264 [00:00<?, ?it/s]"
      ]
     },
     "metadata": {},
     "output_type": "display_data"
    },
    {
     "data": {
      "application/vnd.jupyter.widget-view+json": {
       "model_id": "d96e53c735864b6b8cce20ad544799a3",
       "version_major": 2,
       "version_minor": 0
      },
      "text/plain": [
       "Epoch 10:   0%|          | 0/264 [00:00<?, ?it/s]"
      ]
     },
     "metadata": {},
     "output_type": "display_data"
    },
    {
     "data": {
      "application/vnd.jupyter.widget-view+json": {
       "model_id": "5fe041dca0154cd5947d5fbf3ba7ea71",
       "version_major": 2,
       "version_minor": 0
      },
      "text/plain": [
       "Epoch 11:   0%|          | 0/264 [00:00<?, ?it/s]"
      ]
     },
     "metadata": {},
     "output_type": "display_data"
    },
    {
     "data": {
      "application/vnd.jupyter.widget-view+json": {
       "model_id": "5db6c256b3d24966982e9d61b869d843",
       "version_major": 2,
       "version_minor": 0
      },
      "text/plain": [
       "Epoch 12:   0%|          | 0/264 [00:00<?, ?it/s]"
      ]
     },
     "metadata": {},
     "output_type": "display_data"
    },
    {
     "data": {
      "application/vnd.jupyter.widget-view+json": {
       "model_id": "6bfca759d6d942edb08aa6cd23c7335d",
       "version_major": 2,
       "version_minor": 0
      },
      "text/plain": [
       "Epoch 13:   0%|          | 0/264 [00:00<?, ?it/s]"
      ]
     },
     "metadata": {},
     "output_type": "display_data"
    },
    {
     "data": {
      "application/vnd.jupyter.widget-view+json": {
       "model_id": "f9aa9f5a6d594558bd437086f4ffbdaf",
       "version_major": 2,
       "version_minor": 0
      },
      "text/plain": [
       "Epoch 14:   0%|          | 0/264 [00:00<?, ?it/s]"
      ]
     },
     "metadata": {},
     "output_type": "display_data"
    },
    {
     "data": {
      "application/vnd.jupyter.widget-view+json": {
       "model_id": "3d8d3bf3ca654378b99d5a14feff42a5",
       "version_major": 2,
       "version_minor": 0
      },
      "text/plain": [
       "Epoch 15:   0%|          | 0/264 [00:00<?, ?it/s]"
      ]
     },
     "metadata": {},
     "output_type": "display_data"
    },
    {
     "data": {
      "application/vnd.jupyter.widget-view+json": {
       "model_id": "3e15603a58864c4f870758d1e05c4213",
       "version_major": 2,
       "version_minor": 0
      },
      "text/plain": [
       "Epoch 16:   0%|          | 0/264 [00:00<?, ?it/s]"
      ]
     },
     "metadata": {},
     "output_type": "display_data"
    },
    {
     "data": {
      "application/vnd.jupyter.widget-view+json": {
       "model_id": "6bbbeb9a8f8747ed90e4c93ecd0e38e3",
       "version_major": 2,
       "version_minor": 0
      },
      "text/plain": [
       "Epoch 17:   0%|          | 0/264 [00:00<?, ?it/s]"
      ]
     },
     "metadata": {},
     "output_type": "display_data"
    },
    {
     "data": {
      "application/vnd.jupyter.widget-view+json": {
       "model_id": "d9c5f463bcb6436897ff7d6ec6470149",
       "version_major": 2,
       "version_minor": 0
      },
      "text/plain": [
       "Epoch 18:   0%|          | 0/264 [00:00<?, ?it/s]"
      ]
     },
     "metadata": {},
     "output_type": "display_data"
    },
    {
     "data": {
      "application/vnd.jupyter.widget-view+json": {
       "model_id": "d8d6f7a1b6f24e809e448ebeea20b29a",
       "version_major": 2,
       "version_minor": 0
      },
      "text/plain": [
       "Epoch 19:   0%|          | 0/264 [00:00<?, ?it/s]"
      ]
     },
     "metadata": {},
     "output_type": "display_data"
    },
    {
     "data": {
      "application/vnd.jupyter.widget-view+json": {
       "model_id": "119db22b70d442da95b30037252de7be",
       "version_major": 2,
       "version_minor": 0
      },
      "text/plain": [
       "Epoch 20:   0%|          | 0/264 [00:00<?, ?it/s]"
      ]
     },
     "metadata": {},
     "output_type": "display_data"
    },
    {
     "data": {
      "application/vnd.jupyter.widget-view+json": {
       "model_id": "09100877e8754a6cafb4aa12f5eb43fb",
       "version_major": 2,
       "version_minor": 0
      },
      "text/plain": [
       "Epoch 21:   0%|          | 0/264 [00:00<?, ?it/s]"
      ]
     },
     "metadata": {},
     "output_type": "display_data"
    },
    {
     "data": {
      "application/vnd.jupyter.widget-view+json": {
       "model_id": "269126dc560341dd8ac9573bbc9d51bb",
       "version_major": 2,
       "version_minor": 0
      },
      "text/plain": [
       "Epoch 22:   0%|          | 0/264 [00:00<?, ?it/s]"
      ]
     },
     "metadata": {},
     "output_type": "display_data"
    },
    {
     "data": {
      "application/vnd.jupyter.widget-view+json": {
       "model_id": "d113876e7d1247b59ff1e5cfc6172ef8",
       "version_major": 2,
       "version_minor": 0
      },
      "text/plain": [
       "Epoch 23:   0%|          | 0/264 [00:00<?, ?it/s]"
      ]
     },
     "metadata": {},
     "output_type": "display_data"
    },
    {
     "data": {
      "application/vnd.jupyter.widget-view+json": {
       "model_id": "9ef1ac7f529648cdb133bd716dd725f0",
       "version_major": 2,
       "version_minor": 0
      },
      "text/plain": [
       "Epoch 24:   0%|          | 0/264 [00:00<?, ?it/s]"
      ]
     },
     "metadata": {},
     "output_type": "display_data"
    },
    {
     "data": {
      "application/vnd.jupyter.widget-view+json": {
       "model_id": "421c2d78d98f4b02acb5d2f11ed5478f",
       "version_major": 2,
       "version_minor": 0
      },
      "text/plain": [
       "Epoch 25:   0%|          | 0/264 [00:00<?, ?it/s]"
      ]
     },
     "metadata": {},
     "output_type": "display_data"
    },
    {
     "data": {
      "application/vnd.jupyter.widget-view+json": {
       "model_id": "616d0a0db34740c093becddcb01ab391",
       "version_major": 2,
       "version_minor": 0
      },
      "text/plain": [
       "Epoch 26:   0%|          | 0/264 [00:00<?, ?it/s]"
      ]
     },
     "metadata": {},
     "output_type": "display_data"
    },
    {
     "data": {
      "application/vnd.jupyter.widget-view+json": {
       "model_id": "619e956522084c3bb45d5cdef52b1a58",
       "version_major": 2,
       "version_minor": 0
      },
      "text/plain": [
       "Epoch 27:   0%|          | 0/264 [00:00<?, ?it/s]"
      ]
     },
     "metadata": {},
     "output_type": "display_data"
    },
    {
     "data": {
      "application/vnd.jupyter.widget-view+json": {
       "model_id": "9c9f6826a8ae438fb101c329e9593211",
       "version_major": 2,
       "version_minor": 0
      },
      "text/plain": [
       "Epoch 28:   0%|          | 0/264 [00:00<?, ?it/s]"
      ]
     },
     "metadata": {},
     "output_type": "display_data"
    },
    {
     "data": {
      "application/vnd.jupyter.widget-view+json": {
       "model_id": "6f5a866a75b441ea9d0fddae498c3ccc",
       "version_major": 2,
       "version_minor": 0
      },
      "text/plain": [
       "Epoch 29:   0%|          | 0/264 [00:00<?, ?it/s]"
      ]
     },
     "metadata": {},
     "output_type": "display_data"
    },
    {
     "data": {
      "application/vnd.jupyter.widget-view+json": {
       "model_id": "c3a28988b6804ecb815eefec5d288177",
       "version_major": 2,
       "version_minor": 0
      },
      "text/plain": [
       "Epoch 30:   0%|          | 0/264 [00:00<?, ?it/s]"
      ]
     },
     "metadata": {},
     "output_type": "display_data"
    },
    {
     "data": {
      "application/vnd.jupyter.widget-view+json": {
       "model_id": "3e4c63cf2ed74f20892f38780207312d",
       "version_major": 2,
       "version_minor": 0
      },
      "text/plain": [
       "Epoch 31:   0%|          | 0/264 [00:00<?, ?it/s]"
      ]
     },
     "metadata": {},
     "output_type": "display_data"
    },
    {
     "data": {
      "application/vnd.jupyter.widget-view+json": {
       "model_id": "0f724f43d92946ca85a0a7892fa8c69e",
       "version_major": 2,
       "version_minor": 0
      },
      "text/plain": [
       "Epoch 32:   0%|          | 0/264 [00:00<?, ?it/s]"
      ]
     },
     "metadata": {},
     "output_type": "display_data"
    },
    {
     "data": {
      "application/vnd.jupyter.widget-view+json": {
       "model_id": "6995f21c9539484086befcde3ce3cb4e",
       "version_major": 2,
       "version_minor": 0
      },
      "text/plain": [
       "Epoch 33:   0%|          | 0/264 [00:00<?, ?it/s]"
      ]
     },
     "metadata": {},
     "output_type": "display_data"
    },
    {
     "data": {
      "application/vnd.jupyter.widget-view+json": {
       "model_id": "65c1d0c89c5e42c7af85d70d9605f62c",
       "version_major": 2,
       "version_minor": 0
      },
      "text/plain": [
       "Epoch 34:   0%|          | 0/264 [00:00<?, ?it/s]"
      ]
     },
     "metadata": {},
     "output_type": "display_data"
    },
    {
     "data": {
      "application/vnd.jupyter.widget-view+json": {
       "model_id": "343cd718c99c4797b43c129cdc87cbb3",
       "version_major": 2,
       "version_minor": 0
      },
      "text/plain": [
       "Epoch 35:   0%|          | 0/264 [00:00<?, ?it/s]"
      ]
     },
     "metadata": {},
     "output_type": "display_data"
    },
    {
     "data": {
      "application/vnd.jupyter.widget-view+json": {
       "model_id": "9b00f33642b64592a4ed61a1c78492b5",
       "version_major": 2,
       "version_minor": 0
      },
      "text/plain": [
       "Epoch 36:   0%|          | 0/264 [00:00<?, ?it/s]"
      ]
     },
     "metadata": {},
     "output_type": "display_data"
    },
    {
     "data": {
      "application/vnd.jupyter.widget-view+json": {
       "model_id": "430bebc4abf4406d9cee0364644c2539",
       "version_major": 2,
       "version_minor": 0
      },
      "text/plain": [
       "Epoch 37:   0%|          | 0/264 [00:00<?, ?it/s]"
      ]
     },
     "metadata": {},
     "output_type": "display_data"
    },
    {
     "data": {
      "application/vnd.jupyter.widget-view+json": {
       "model_id": "4d7d9321be5747a78d6e92ac9453d857",
       "version_major": 2,
       "version_minor": 0
      },
      "text/plain": [
       "Epoch 38:   0%|          | 0/264 [00:00<?, ?it/s]"
      ]
     },
     "metadata": {},
     "output_type": "display_data"
    },
    {
     "data": {
      "application/vnd.jupyter.widget-view+json": {
       "model_id": "1fb05453a238490fb8a51371f4797ebc",
       "version_major": 2,
       "version_minor": 0
      },
      "text/plain": [
       "Epoch 39:   0%|          | 0/264 [00:00<?, ?it/s]"
      ]
     },
     "metadata": {},
     "output_type": "display_data"
    },
    {
     "data": {
      "application/vnd.jupyter.widget-view+json": {
       "model_id": "05fb21751a5246baba9a5c3ccbdccdf8",
       "version_major": 2,
       "version_minor": 0
      },
      "text/plain": [
       "Epoch 40:   0%|          | 0/264 [00:00<?, ?it/s]"
      ]
     },
     "metadata": {},
     "output_type": "display_data"
    },
    {
     "data": {
      "application/vnd.jupyter.widget-view+json": {
       "model_id": "026c82c669a64ca28cf1c41ff0003bf3",
       "version_major": 2,
       "version_minor": 0
      },
      "text/plain": [
       "Epoch 41:   0%|          | 0/264 [00:00<?, ?it/s]"
      ]
     },
     "metadata": {},
     "output_type": "display_data"
    },
    {
     "data": {
      "application/vnd.jupyter.widget-view+json": {
       "model_id": "535e717ef3a74d119cc853052697f7bb",
       "version_major": 2,
       "version_minor": 0
      },
      "text/plain": [
       "Epoch 42:   0%|          | 0/264 [00:00<?, ?it/s]"
      ]
     },
     "metadata": {},
     "output_type": "display_data"
    },
    {
     "data": {
      "application/vnd.jupyter.widget-view+json": {
       "model_id": "2066189e24644f3d95270572f4499fe6",
       "version_major": 2,
       "version_minor": 0
      },
      "text/plain": [
       "Epoch 43:   0%|          | 0/264 [00:00<?, ?it/s]"
      ]
     },
     "metadata": {},
     "output_type": "display_data"
    },
    {
     "data": {
      "application/vnd.jupyter.widget-view+json": {
       "model_id": "6bc4fdc3d4ff4987a2cfd3bb7ea7bc9d",
       "version_major": 2,
       "version_minor": 0
      },
      "text/plain": [
       "Epoch 44:   0%|          | 0/264 [00:00<?, ?it/s]"
      ]
     },
     "metadata": {},
     "output_type": "display_data"
    },
    {
     "data": {
      "application/vnd.jupyter.widget-view+json": {
       "model_id": "eac3b817d1a341a9b7912205db0bef1d",
       "version_major": 2,
       "version_minor": 0
      },
      "text/plain": [
       "Epoch 45:   0%|          | 0/264 [00:00<?, ?it/s]"
      ]
     },
     "metadata": {},
     "output_type": "display_data"
    },
    {
     "data": {
      "application/vnd.jupyter.widget-view+json": {
       "model_id": "5b8c78debfec43e28184d5ddd74e1c59",
       "version_major": 2,
       "version_minor": 0
      },
      "text/plain": [
       "Epoch 46:   0%|          | 0/264 [00:00<?, ?it/s]"
      ]
     },
     "metadata": {},
     "output_type": "display_data"
    },
    {
     "data": {
      "application/vnd.jupyter.widget-view+json": {
       "model_id": "20ba25333a2648cfb498c550d45cac22",
       "version_major": 2,
       "version_minor": 0
      },
      "text/plain": [
       "Epoch 47:   0%|          | 0/264 [00:00<?, ?it/s]"
      ]
     },
     "metadata": {},
     "output_type": "display_data"
    },
    {
     "data": {
      "application/vnd.jupyter.widget-view+json": {
       "model_id": "9bee7c94f2244136a5dccfd2d00b7c05",
       "version_major": 2,
       "version_minor": 0
      },
      "text/plain": [
       "Epoch 48:   0%|          | 0/264 [00:00<?, ?it/s]"
      ]
     },
     "metadata": {},
     "output_type": "display_data"
    },
    {
     "data": {
      "application/vnd.jupyter.widget-view+json": {
       "model_id": "6bb2b0c7d4254bd48c34942d02d73925",
       "version_major": 2,
       "version_minor": 0
      },
      "text/plain": [
       "Epoch 49:   0%|          | 0/264 [00:00<?, ?it/s]"
      ]
     },
     "metadata": {},
     "output_type": "display_data"
    },
    {
     "data": {
      "application/vnd.jupyter.widget-view+json": {
       "model_id": "8734d8bee6094ddbb440b07045fb64f2",
       "version_major": 2,
       "version_minor": 0
      },
      "text/plain": [
       "Epoch 50:   0%|          | 0/264 [00:00<?, ?it/s]"
      ]
     },
     "metadata": {},
     "output_type": "display_data"
    },
    {
     "data": {
      "application/vnd.jupyter.widget-view+json": {
       "model_id": "31267147d3ea47c39bf10cab6cf980ba",
       "version_major": 2,
       "version_minor": 0
      },
      "text/plain": [
       "Epoch 51:   0%|          | 0/264 [00:00<?, ?it/s]"
      ]
     },
     "metadata": {},
     "output_type": "display_data"
    },
    {
     "data": {
      "application/vnd.jupyter.widget-view+json": {
       "model_id": "d1db5bf34676479c9bc02fcba1966425",
       "version_major": 2,
       "version_minor": 0
      },
      "text/plain": [
       "Epoch 52:   0%|          | 0/264 [00:00<?, ?it/s]"
      ]
     },
     "metadata": {},
     "output_type": "display_data"
    },
    {
     "data": {
      "application/vnd.jupyter.widget-view+json": {
       "model_id": "28a6f61d23d84a5e907909c5d3e5ccec",
       "version_major": 2,
       "version_minor": 0
      },
      "text/plain": [
       "Epoch 53:   0%|          | 0/264 [00:00<?, ?it/s]"
      ]
     },
     "metadata": {},
     "output_type": "display_data"
    },
    {
     "data": {
      "application/vnd.jupyter.widget-view+json": {
       "model_id": "4f0d49b9822546efa0c4bf959cdbeeee",
       "version_major": 2,
       "version_minor": 0
      },
      "text/plain": [
       "Epoch 54:   0%|          | 0/264 [00:00<?, ?it/s]"
      ]
     },
     "metadata": {},
     "output_type": "display_data"
    },
    {
     "data": {
      "application/vnd.jupyter.widget-view+json": {
       "model_id": "a2b5e077e4e540c380b93c5698ba9480",
       "version_major": 2,
       "version_minor": 0
      },
      "text/plain": [
       "Epoch 55:   0%|          | 0/264 [00:00<?, ?it/s]"
      ]
     },
     "metadata": {},
     "output_type": "display_data"
    },
    {
     "data": {
      "application/vnd.jupyter.widget-view+json": {
       "model_id": "cb19065aa8cb4ca687b614f82ff81e3b",
       "version_major": 2,
       "version_minor": 0
      },
      "text/plain": [
       "Epoch 56:   0%|          | 0/264 [00:00<?, ?it/s]"
      ]
     },
     "metadata": {},
     "output_type": "display_data"
    },
    {
     "data": {
      "application/vnd.jupyter.widget-view+json": {
       "model_id": "e792b44f194b4aa6aa1f05bc64059ddb",
       "version_major": 2,
       "version_minor": 0
      },
      "text/plain": [
       "Epoch 57:   0%|          | 0/264 [00:00<?, ?it/s]"
      ]
     },
     "metadata": {},
     "output_type": "display_data"
    },
    {
     "data": {
      "application/vnd.jupyter.widget-view+json": {
       "model_id": "67803ec0291d491a853dee1fb9862bf2",
       "version_major": 2,
       "version_minor": 0
      },
      "text/plain": [
       "Epoch 58:   0%|          | 0/264 [00:00<?, ?it/s]"
      ]
     },
     "metadata": {},
     "output_type": "display_data"
    },
    {
     "data": {
      "application/vnd.jupyter.widget-view+json": {
       "model_id": "38744bf60cef405aa52e8fc0991db914",
       "version_major": 2,
       "version_minor": 0
      },
      "text/plain": [
       "Epoch 59:   0%|          | 0/264 [00:00<?, ?it/s]"
      ]
     },
     "metadata": {},
     "output_type": "display_data"
    },
    {
     "data": {
      "application/vnd.jupyter.widget-view+json": {
       "model_id": "a9248c8caade4c1dade3fc414c7d686e",
       "version_major": 2,
       "version_minor": 0
      },
      "text/plain": [
       "Epoch 60:   0%|          | 0/264 [00:00<?, ?it/s]"
      ]
     },
     "metadata": {},
     "output_type": "display_data"
    },
    {
     "data": {
      "application/vnd.jupyter.widget-view+json": {
       "model_id": "1f48c1caacf74521b3a9c3aa912345ce",
       "version_major": 2,
       "version_minor": 0
      },
      "text/plain": [
       "Epoch 61:   0%|          | 0/264 [00:00<?, ?it/s]"
      ]
     },
     "metadata": {},
     "output_type": "display_data"
    },
    {
     "data": {
      "application/vnd.jupyter.widget-view+json": {
       "model_id": "b13fe09efec64734aee12a71333ca612",
       "version_major": 2,
       "version_minor": 0
      },
      "text/plain": [
       "Epoch 62:   0%|          | 0/264 [00:00<?, ?it/s]"
      ]
     },
     "metadata": {},
     "output_type": "display_data"
    },
    {
     "data": {
      "application/vnd.jupyter.widget-view+json": {
       "model_id": "e2dfd293da024cebb95497cbbee22231",
       "version_major": 2,
       "version_minor": 0
      },
      "text/plain": [
       "Epoch 63:   0%|          | 0/264 [00:00<?, ?it/s]"
      ]
     },
     "metadata": {},
     "output_type": "display_data"
    },
    {
     "data": {
      "application/vnd.jupyter.widget-view+json": {
       "model_id": "14028938115a4437a521776dcacc0038",
       "version_major": 2,
       "version_minor": 0
      },
      "text/plain": [
       "Epoch 64:   0%|          | 0/264 [00:00<?, ?it/s]"
      ]
     },
     "metadata": {},
     "output_type": "display_data"
    },
    {
     "data": {
      "application/vnd.jupyter.widget-view+json": {
       "model_id": "8ae141b82d9940dfa375fbd718550be5",
       "version_major": 2,
       "version_minor": 0
      },
      "text/plain": [
       "Epoch 65:   0%|          | 0/264 [00:00<?, ?it/s]"
      ]
     },
     "metadata": {},
     "output_type": "display_data"
    },
    {
     "data": {
      "application/vnd.jupyter.widget-view+json": {
       "model_id": "8be7c812d4cb45fb944033de5f2c7b82",
       "version_major": 2,
       "version_minor": 0
      },
      "text/plain": [
       "Epoch 66:   0%|          | 0/264 [00:00<?, ?it/s]"
      ]
     },
     "metadata": {},
     "output_type": "display_data"
    },
    {
     "data": {
      "application/vnd.jupyter.widget-view+json": {
       "model_id": "073b5c087b6f4096bae46b0092c499ec",
       "version_major": 2,
       "version_minor": 0
      },
      "text/plain": [
       "Epoch 67:   0%|          | 0/264 [00:00<?, ?it/s]"
      ]
     },
     "metadata": {},
     "output_type": "display_data"
    },
    {
     "data": {
      "application/vnd.jupyter.widget-view+json": {
       "model_id": "ec9cdd529bb94c27a7109c17a9721d46",
       "version_major": 2,
       "version_minor": 0
      },
      "text/plain": [
       "Epoch 68:   0%|          | 0/264 [00:00<?, ?it/s]"
      ]
     },
     "metadata": {},
     "output_type": "display_data"
    },
    {
     "data": {
      "application/vnd.jupyter.widget-view+json": {
       "model_id": "f1590b5f480640278a859a5c1772d8ee",
       "version_major": 2,
       "version_minor": 0
      },
      "text/plain": [
       "Epoch 69:   0%|          | 0/264 [00:00<?, ?it/s]"
      ]
     },
     "metadata": {},
     "output_type": "display_data"
    },
    {
     "data": {
      "application/vnd.jupyter.widget-view+json": {
       "model_id": "5624229f02644390a71ef35de05732ae",
       "version_major": 2,
       "version_minor": 0
      },
      "text/plain": [
       "Epoch 70:   0%|          | 0/264 [00:00<?, ?it/s]"
      ]
     },
     "metadata": {},
     "output_type": "display_data"
    },
    {
     "data": {
      "application/vnd.jupyter.widget-view+json": {
       "model_id": "46c1da67eca14dc683a010c469e070fc",
       "version_major": 2,
       "version_minor": 0
      },
      "text/plain": [
       "Epoch 71:   0%|          | 0/264 [00:00<?, ?it/s]"
      ]
     },
     "metadata": {},
     "output_type": "display_data"
    },
    {
     "data": {
      "application/vnd.jupyter.widget-view+json": {
       "model_id": "c16089082ef843218e6f834727d238df",
       "version_major": 2,
       "version_minor": 0
      },
      "text/plain": [
       "Epoch 72:   0%|          | 0/264 [00:00<?, ?it/s]"
      ]
     },
     "metadata": {},
     "output_type": "display_data"
    },
    {
     "data": {
      "application/vnd.jupyter.widget-view+json": {
       "model_id": "2e62e1cc423a46c7a9c24b5957b1a0f5",
       "version_major": 2,
       "version_minor": 0
      },
      "text/plain": [
       "Epoch 73:   0%|          | 0/264 [00:00<?, ?it/s]"
      ]
     },
     "metadata": {},
     "output_type": "display_data"
    },
    {
     "data": {
      "application/vnd.jupyter.widget-view+json": {
       "model_id": "eca8702da1cf47018516388a06e50753",
       "version_major": 2,
       "version_minor": 0
      },
      "text/plain": [
       "Epoch 74:   0%|          | 0/264 [00:00<?, ?it/s]"
      ]
     },
     "metadata": {},
     "output_type": "display_data"
    },
    {
     "data": {
      "application/vnd.jupyter.widget-view+json": {
       "model_id": "99d60158a62b47f98c5a70983799b0cd",
       "version_major": 2,
       "version_minor": 0
      },
      "text/plain": [
       "Epoch 75:   0%|          | 0/264 [00:00<?, ?it/s]"
      ]
     },
     "metadata": {},
     "output_type": "display_data"
    },
    {
     "data": {
      "application/vnd.jupyter.widget-view+json": {
       "model_id": "b7753db341cd43099b563c55bee899df",
       "version_major": 2,
       "version_minor": 0
      },
      "text/plain": [
       "Epoch 76:   0%|          | 0/264 [00:00<?, ?it/s]"
      ]
     },
     "metadata": {},
     "output_type": "display_data"
    },
    {
     "data": {
      "application/vnd.jupyter.widget-view+json": {
       "model_id": "cd49d1355bcf41e78518041b7566ac6f",
       "version_major": 2,
       "version_minor": 0
      },
      "text/plain": [
       "Epoch 77:   0%|          | 0/264 [00:00<?, ?it/s]"
      ]
     },
     "metadata": {},
     "output_type": "display_data"
    },
    {
     "data": {
      "application/vnd.jupyter.widget-view+json": {
       "model_id": "8abbb6eebf64429e833f0957400c0d06",
       "version_major": 2,
       "version_minor": 0
      },
      "text/plain": [
       "Epoch 78:   0%|          | 0/264 [00:00<?, ?it/s]"
      ]
     },
     "metadata": {},
     "output_type": "display_data"
    },
    {
     "data": {
      "application/vnd.jupyter.widget-view+json": {
       "model_id": "3a705b8d733c4267851952efbb18260e",
       "version_major": 2,
       "version_minor": 0
      },
      "text/plain": [
       "Epoch 79:   0%|          | 0/264 [00:00<?, ?it/s]"
      ]
     },
     "metadata": {},
     "output_type": "display_data"
    },
    {
     "data": {
      "application/vnd.jupyter.widget-view+json": {
       "model_id": "f40ec5f89816494c8c9833a3131ed0e2",
       "version_major": 2,
       "version_minor": 0
      },
      "text/plain": [
       "Epoch 80:   0%|          | 0/264 [00:00<?, ?it/s]"
      ]
     },
     "metadata": {},
     "output_type": "display_data"
    },
    {
     "data": {
      "application/vnd.jupyter.widget-view+json": {
       "model_id": "bf164b64230142d99a2abc271afac78e",
       "version_major": 2,
       "version_minor": 0
      },
      "text/plain": [
       "Epoch 81:   0%|          | 0/264 [00:00<?, ?it/s]"
      ]
     },
     "metadata": {},
     "output_type": "display_data"
    },
    {
     "data": {
      "application/vnd.jupyter.widget-view+json": {
       "model_id": "9641df4aa44e465ca6024446828e25d7",
       "version_major": 2,
       "version_minor": 0
      },
      "text/plain": [
       "Epoch 82:   0%|          | 0/264 [00:00<?, ?it/s]"
      ]
     },
     "metadata": {},
     "output_type": "display_data"
    },
    {
     "data": {
      "application/vnd.jupyter.widget-view+json": {
       "model_id": "daabe6714e564ba5bdd86aef9fb1fbe9",
       "version_major": 2,
       "version_minor": 0
      },
      "text/plain": [
       "Epoch 83:   0%|          | 0/264 [00:00<?, ?it/s]"
      ]
     },
     "metadata": {},
     "output_type": "display_data"
    },
    {
     "name": "stdout",
     "output_type": "stream",
     "text": [
      "11/20 15:03:33 [ERRO] -------Exception----------\n",
      "Traceback (most recent call last):\n",
      "  File \"c:\\Users\\PC\\anaconda3\\envs\\cv_env\\lib\\site-packages\\IPython\\core\\interactiveshell.py\", line 3508, in run_code\n",
      "    exec(code_obj, self.user_global_ns, self.user_ns)\n",
      "  File \"C:\\Users\\PC\\AppData\\Local\\Temp\\ipykernel_9328\\433992484.py\", line 72, in <module>\n",
      "    model = train(\n",
      "  File \"C:\\Users\\PC\\AppData\\Local\\Temp\\ipykernel_9328\\3573116741.py\", line 50, in train\n",
      "    loss = loss_fn(output, batch['label'])\n",
      "  File \"c:\\Users\\PC\\anaconda3\\envs\\cv_env\\lib\\site-packages\\torch\\nn\\modules\\module.py\", line 1553, in _wrapped_call_impl\n",
      "    return self._call_impl(*args, **kwargs)\n",
      "  File \"c:\\Users\\PC\\anaconda3\\envs\\cv_env\\lib\\site-packages\\torch\\nn\\modules\\module.py\", line 1562, in _call_impl\n",
      "    return forward_call(*args, **kwargs)\n",
      "  File \"c:\\Users\\PC\\anaconda3\\envs\\cv_env\\lib\\site-packages\\torch\\nn\\modules\\loss.py\", line 1188, in forward\n",
      "    return F.cross_entropy(input, target, weight=self.weight,\n",
      "  File \"c:\\Users\\PC\\anaconda3\\envs\\cv_env\\lib\\site-packages\\torch\\nn\\functional.py\", line 3090, in cross_entropy\n",
      "    return handle_torch_function(\n",
      "  File \"c:\\Users\\PC\\anaconda3\\envs\\cv_env\\lib\\site-packages\\torch\\overrides.py\", line 1630, in handle_torch_function\n",
      "    result = mode.__torch_function__(public_api, types, args, kwargs)\n",
      "  File \"c:\\Users\\PC\\anaconda3\\envs\\cv_env\\lib\\site-packages\\torch\\utils\\_device.py\", line 79, in __torch_function__\n",
      "    return func(*args, **kwargs)\n",
      "  File \"c:\\Users\\PC\\anaconda3\\envs\\cv_env\\lib\\site-packages\\torch\\nn\\functional.py\", line 3104, in cross_entropy\n",
      "    return torch._C._nn.cross_entropy_loss(input, target, weight, _Reduction.get_enum(reduction), ignore_index, label_smoothing)\n",
      "KeyboardInterrupt\n"
     ]
    }
   ],
   "source": [
    "# 날짜 시간 설정\n",
    "from datetime import datetime\n",
    "dt_str = datetime.now().strftime('%m%d%H%M')\n",
    "cache_dir = os.path.join(base_path, 'img_cached')\n",
    "os.makedirs(cache_dir, exist_ok=True)\n",
    "\n",
    "# 학습 실행\n",
    "for fold_idx, (train_index, val_index) in enumerate(skf.split(train_df, train_df['class'])):\n",
    "    gc.collect()\n",
    "    torch.cuda.empty_cache()\n",
    "    \n",
    "    logger.info(f'{fold_idx=} started')\n",
    "    import wandb\n",
    "    run = wandb.init(\n",
    "        name=f'fold{fold_idx+1}_{CFG[\"MODEL_NAME\"].split(\"/\")[1].split(\"-\")[0]}_{dt_str}',\n",
    "        config=CFG,\n",
    "        reinit=True)\n",
    "    \n",
    "    train_fold_df = train_df.loc[train_index,:]\n",
    "    val_fold_df = train_df.loc[val_index,:]\n",
    "\n",
    "    train_dataset = CustomDataset( \n",
    "        train_fold_df['img_path'].values, \n",
    "        train_fold_df['class'].values, \n",
    "        interpolation=CFG['INTERPOLATION'],\n",
    "        load_img_size=CFG['IMG_TRAIN_SIZE'],\n",
    "        shuffle=True, \n",
    "        transforms=train_transform)\n",
    "    \n",
    "    train_loader = DataLoader(\n",
    "        train_dataset, \n",
    "        batch_size=CFG['BATCH_SIZE'], \n",
    "        shuffle=True, \n",
    "        generator=torch.Generator(device=device),\n",
    "        num_workers=0\n",
    "    )\n",
    "\n",
    "    val_dataset = CustomDataset(\n",
    "        val_fold_df['img_path'].values,\n",
    "        val_fold_df['class'].values,\n",
    "        interpolation=CFG['INTERPOLATION'],\n",
    "        load_img_size=CFG['IMG_SIZE'],\n",
    "        shuffle=False, \n",
    "        transforms=test_transform)\n",
    "    \n",
    "    val_loader = DataLoader(\n",
    "        val_dataset, \n",
    "        batch_size=CFG['BATCH_SIZE']*2, \n",
    "        shuffle=False, \n",
    "        generator=torch.Generator(device=device),\n",
    "        num_workers=0\n",
    "    )\n",
    "\n",
    "    model = create_model(CFG['MODEL_NAME'])\n",
    "    \n",
    "    optimizer = torch.optim.AdamW(\n",
    "        model.parameters(),\n",
    "        lr=CFG['LR'][0],\n",
    "        weight_decay=0.001,\n",
    "    )\n",
    "    \n",
    "    scheduler = CosineAnnealingWarmupRestarts(\n",
    "        optimizer,\n",
    "        first_cycle_steps=int(len(train_loader)) // 4,\n",
    "        cycle_mult=1.0, \n",
    "        max_lr=CFG['LR'][0] * 2, \n",
    "        min_lr=CFG['LR'][1],\n",
    "        warmup_steps=0, \n",
    "        gamma=0.93,\n",
    "    )\n",
    "    \n",
    "    model = train( \n",
    "        model, optimizer, train_loader, val_loader, scheduler, device,\n",
    "        use_amp=(CFG['PRECISION'] == '16'),\n",
    "        filename=f'./ckpt/{CFG[\"MODEL_NAME\"].split(\"/\")[1].split(\"-\")[0]}-fold_idx={fold_idx}-' + \n",
    "                'epoch={epoch:02d}-val_loss={val_loss:.4f}-val_score={val_score:.4f}',\n",
    "    )\n",
    "    \n",
    "    model = None\n",
    "    gc.collect()\n",
    "    torch.cuda.empty_cache()\n",
    "    logger.info(f'{fold_idx=} finished')\n",
    "    run.finish()\n",
    "    \n",
    "    try:\n",
    "        last_chpt_info = !ls -t ./ckpt/ | head -n1\n",
    "        last_chpt_info = ','.join( last_chpt_info[0][:-5].split('-')[1:] )\n",
    "        !python ~/send_telegram.py {last_chpt_info}\n",
    "    except:\n",
    "        pass"
   ]
  },
  {
   "cell_type": "code",
   "execution_count": null,
   "metadata": {
    "id": "ZvWhUDQ1SjI_"
   },
   "outputs": [
    {
     "name": "stdout",
     "output_type": "stream",
     "text": [
      "11/19 16:23:13 [ERRO] -------Exception----------\n",
      "Traceback (most recent call last):\n",
      "  File \"c:\\Users\\PC\\anaconda3\\envs\\cv_env\\lib\\site-packages\\pandas\\core\\indexes\\base.py\", line 3653, in get_loc\n",
      "    return self._engine.get_loc(casted_key)\n",
      "  File \"pandas\\_libs\\index.pyx\", line 147, in pandas._libs.index.IndexEngine.get_loc\n",
      "  File \"pandas\\_libs\\index.pyx\", line 176, in pandas._libs.index.IndexEngine.get_loc\n",
      "  File \"pandas\\_libs\\hashtable_class_helper.pxi\", line 7080, in pandas._libs.hashtable.PyObjectHashTable.get_item\n",
      "  File \"pandas\\_libs\\hashtable_class_helper.pxi\", line 7088, in pandas._libs.hashtable.PyObjectHashTable.get_item\n",
      "KeyError: 'class'\n",
      "\n",
      "The above exception was the direct cause of the following exception:\n",
      "\n",
      "Traceback (most recent call last):\n",
      "  File \"c:\\Users\\PC\\anaconda3\\envs\\cv_env\\lib\\site-packages\\IPython\\core\\interactiveshell.py\", line 3508, in run_code\n",
      "    exec(code_obj, self.user_global_ns, self.user_ns)\n",
      "  File \"C:\\Users\\PC\\AppData\\Local\\Temp\\ipykernel_7704\\2688378290.py\", line 4, in <module>\n",
      "    for fold_idx, (train_index, val_index) in enumerate(skf.split(train_df, train_df['class'])):\n",
      "  File \"c:\\Users\\PC\\anaconda3\\envs\\cv_env\\lib\\site-packages\\pandas\\core\\frame.py\", line 3761, in __getitem__\n",
      "    indexer = self.columns.get_loc(key)\n",
      "  File \"c:\\Users\\PC\\anaconda3\\envs\\cv_env\\lib\\site-packages\\pandas\\core\\indexes\\base.py\", line 3655, in get_loc\n",
      "    raise KeyError(key) from err\n",
      "KeyError: 'class'\n"
     ]
    }
   ],
   "source": [
    "# from datetime import datetime\n",
    "# dt_str = datetime.now().strftime('%m%d%H%M')\n",
    "\n",
    "# for fold_idx, (train_index, val_index) in enumerate(skf.split(train_df, train_df['class'])):\n",
    "#     gc.collect()\n",
    "#     torch.cuda.empty_cache()\n",
    "    \n",
    "#     logger.info(f'{fold_idx=} started')\n",
    "#     import wandb\n",
    "#     run = wandb.init(\n",
    "#         name=f'fold{fold_idx+1}_{CFG[\"MODEL_NAME\"].split(\"/\")[1].split(\"-\")[0]}_{dt_str}',\n",
    "#         config=CFG,\n",
    "#         reinit=True)\n",
    "    \n",
    "#     train_fold_df = train_df.loc[train_index,:]\n",
    "#     val_fold_df = train_df.loc[val_index,:]\n",
    "\n",
    "#     train_dataset = CustomDataset( \n",
    "#         train_fold_df['img_path'].values, train_fold_df['class'].values, \n",
    "#         interpolation=CFG['INTERPOLATION'], load_img_size=CFG['IMG_TRAIN_SIZE'],\n",
    "#         shuffle=True, transforms=train_transform)\n",
    "#     train_loader = DataLoader(train_dataset, batch_size = CFG['BATCH_SIZE'], shuffle=True, generator=torch.Generator(device=device), num_workers=0)\n",
    "#     val_dataset = CustomDataset(\n",
    "#         val_fold_df['img_path'].values,\n",
    "#         val_fold_df['class'].values,\n",
    "#         interpolation=CFG['INTERPOLATION'], load_img_size=CFG['IMG_SIZE'],\n",
    "#         shuffle=False, transforms=test_transform)\n",
    "#     val_loader = DataLoader(val_dataset, batch_size=CFG['BATCH_SIZE']*2, shuffle=False, generator=torch.Generator(device=device), num_workers=0)\n",
    "\n",
    "#     model = create_model(CFG['MODEL_NAME'])\n",
    "    \n",
    "#     ## wrapp model\n",
    "#     optimizer = torch.optim.AdamW(\n",
    "#         model.parameters(),\n",
    "#         lr=CFG['LR'][0],\n",
    "#         weight_decay=0.001,  ## default는 0.01이며, 논문은 0.001임.\n",
    "#     )\n",
    "#     scheduler = None\n",
    "#     scheduler = CosineAnnealingWarmupRestarts(\n",
    "#         optimizer,\n",
    "#         first_cycle_steps=int( len(train_loader) ) // 4,\n",
    "#         cycle_mult=1.0, max_lr=CFG['LR'][0] * 2, \n",
    "#         min_lr=CFG['LR'][1],\n",
    "#         warmup_steps=0, \n",
    "#         gamma=0.93,  ## 2024.05.02\n",
    "#     )\n",
    "    \n",
    "#     model = train( \n",
    "#         model, optimizer, train_loader, val_loader, scheduler, device,\n",
    "#         use_amp=(CFG['PRECISION'] == '16'),\n",
    "#         filename = f'./ckpt/{CFG[\"MODEL_NAME\"].split(\"/\")[1].split(\"-\")[0]}-fold_idx={fold_idx}-' + 'epoch={epoch:02d}-val_loss={val_loss:.4f}-val_score={val_score:.4f}',\n",
    "#     )\n",
    "    \n",
    "#     model = None\n",
    "#     gc.collect()\n",
    "#     torch.cuda.empty_cache()\n",
    "#     logger.info(f'{fold_idx=} finished')\n",
    "#     run.finish()\n",
    "    \n",
    "#     try:\n",
    "#         # !python ~/send_telegram.py 'fold_idx={fold_idx} finished'\n",
    "#         last_chpt_info = !ls -t ./ckpt/ | head -n1\n",
    "#         last_chpt_info = ','.join( last_chpt_info[0][:-5].split('-')[1:] )\n",
    "#         !python ~/send_telegram.py {last_chpt_info}\n",
    "#     except:\n",
    "#         pass"
   ]
  },
  {
   "cell_type": "markdown",
   "metadata": {},
   "source": [
    "# 모델 앙상블 및 추론"
   ]
  },
  {
   "cell_type": "code",
   "execution_count": null,
   "metadata": {},
   "outputs": [],
   "source": [
    "test_df = pd.read_csv('D:\\data\\bird\\open\\test.csv')"
   ]
  },
  {
   "cell_type": "code",
   "execution_count": null,
   "metadata": {},
   "outputs": [],
   "source": []
  },
  {
   "cell_type": "code",
   "execution_count": null,
   "metadata": {},
   "outputs": [],
   "source": []
  },
  {
   "cell_type": "code",
   "execution_count": null,
   "metadata": {},
   "outputs": [],
   "source": [
    "import re\n",
    "ckpt_df = pd.DataFrame({'fname':glob('./ckpt/*.ckpt')})\n",
    "ckpt_df['mtime'] = ckpt_df.fname.apply(lambda x: int(os.stat(x).st_mtime))\n",
    "ckpt_df['model_name'] = ckpt_df.fname.apply(lambda x: re.search(r'./ckpt/(.*?)-fold',x)[1])\n",
    "ckpt_df['img_size'] = ckpt_df.fname.apply(lambda x: int(re.search(r'patch[0-9]+_([0-9]+)', x + 'patch0_0')[1]) )\n",
    "ckpt_df['is_ema'] = ckpt_df.fname.str.endswith('ema.ckpt').astype(int)\n",
    "ckpt_df['fold_idx'] = ckpt_df.fname.apply(lambda x: int(re.search(r'fold_idx=([0-9])-',x)[1]))\n",
    "ckpt_df['val_loss'] = ckpt_df.fname.apply(lambda x: float(re.search(r'val_loss=(0\\.[0-9]+)', x)[1]) )\n",
    "ckpt_df['val_score'] = ckpt_df.fname.apply(lambda x: float(re.search(r'val_score=(0\\.[0-9]+)', x)[1]) )"
   ]
  },
  {
   "cell_type": "code",
   "execution_count": null,
   "metadata": {},
   "outputs": [],
   "source": [
    "ckpt_df = ckpt_df[ckpt_df.img_size != 0][ckpt_df.is_ema == 0]\n",
    "ckpt_df = ckpt_df.sort_values('mtime',ascending=False).reset_index(drop=True)\n",
    "ckpt_indexes = ckpt_df[ ckpt_df.fold_idx==ckpt_df.fold_idx.max() ].index[:4]"
   ]
  },
  {
   "cell_type": "code",
   "execution_count": null,
   "metadata": {},
   "outputs": [],
   "source": [
    "preds = []\n",
    "preds_score = []\n",
    "\n",
    "for ckpt_start_index in ckpt_indexes:\n",
    "    logger.info(f'{ckpt_df.fname[ckpt_start_index]} loading')\n",
    "    ## imagesize\n",
    "    CFG['IMG_SIZE'] = ckpt_df.img_size[ckpt_start_index]\n",
    "    assert CFG['IMG_SIZE'] in ( 196, 224, )\n",
    "    logger.info(CFG['IMG_SIZE'])\n",
    "\n",
    "    test_dataset = CustomDataset(\n",
    "        test_df['img_path'].values, None, \n",
    "        interpolation=CFG['INTERPOLATION'], load_img_size=CFG['IMG_SIZE'],\n",
    "        shuffle=False, transforms=test_transform)\n",
    "    test_loader = DataLoader(test_dataset, batch_size=CFG['BATCH_SIZE']*2, shuffle=False, num_workers=0)\n",
    "\n",
    "    model_name = ckpt_df.model_name[ckpt_start_index]\n",
    "    model = create_model(model_name)\n",
    "    if ckpt_df.is_ema[ckpt_start_index]:\n",
    "        model = torch.optim.swa_utils.AveragedModel(model)\n",
    "    #-----------------------------\n",
    "    for i in range(ckpt_start_index, ckpt_start_index + ckpt_df.fold_idx.max() + 1 ):\n",
    "        checkpoint_path = ckpt_df.fname[i]\n",
    "        logger.info(f'{checkpoint_path} loading')\n",
    "        model.load_state_dict( torch.load(checkpoint_path)['model'] )\n",
    "        \n",
    "        preds_score.append( ckpt_df.val_score[i] )\n",
    "        preds.append( prediction(model, test_loader, device) )\n",
    "    \n",
    "preds = np.array(preds)\n",
    "preds_score = np.array(preds_score)"
   ]
  },
  {
   "cell_type": "code",
   "execution_count": null,
   "metadata": {},
   "outputs": [],
   "source": [
    "# ### 가중치 평균값..\n",
    "preds_error = (1-preds_score)  ## L1 ACC 오차인경우\n",
    "preds_error = 1-preds_error/preds_error.sum()\n",
    "preds_coef = preds_error/preds_error.sum()\n",
    "\n",
    "logger.info(f'{preds_score=}')\n",
    "logger.info(f'{preds_coef=}')\n",
    "preds2 = np.array( [ coef * preds[i] for i, coef in enumerate( preds_coef ) ] )\n",
    "preds_labels = le.inverse_transform(preds2.sum(0).argmax(-1))\n",
    "print(preds_labels)"
   ]
  },
  {
   "cell_type": "code",
   "execution_count": null,
   "metadata": {},
   "outputs": [],
   "source": [
    "submit = pd.read_csv('D:\\data\\bird\\open\\sample_submission.csv')\n",
    "submit['label'] = preds_labels\n",
    "from datetime import datetime\n",
    "dt_str = datetime.now().strftime('%Y%m%d_%H%M')\n",
    "submit.to_csv(f'./basslibrary_submit_{dt_str}.csv', index=False)\n",
    "logger.info(f'./basslibrary_submit_{dt_str}.csv saved')"
   ]
  },
  {
   "cell_type": "code",
   "execution_count": null,
   "metadata": {},
   "outputs": [],
   "source": [
    "submit.label.value_counts()"
   ]
  },
  {
   "cell_type": "code",
   "execution_count": null,
   "metadata": {
    "id": "RZo9oMpITxaP"
   },
   "outputs": [],
   "source": [
    "# !python ~/send_telegram.py 'basslibrary_submit_{dt_str}.csv saved'"
   ]
  }
 ],
 "metadata": {
  "accelerator": "GPU",
  "colab": {
   "gpuType": "V100",
   "provenance": []
  },
  "kernelspec": {
   "display_name": "cv_env",
   "language": "python",
   "name": "python3"
  },
  "language_info": {
   "codemirror_mode": {
    "name": "ipython",
    "version": 3
   },
   "file_extension": ".py",
   "mimetype": "text/x-python",
   "name": "python",
   "nbconvert_exporter": "python",
   "pygments_lexer": "ipython3",
   "version": "3.8.20"
  }
 },
 "nbformat": 4,
 "nbformat_minor": 4
}
